{
  "nbformat": 4,
  "nbformat_minor": 0,
  "metadata": {
    "colab": {
      "provenance": []
    },
    "kernelspec": {
      "name": "python3",
      "display_name": "Python 3"
    },
    "language_info": {
      "name": "python"
    }
  },
  "cells": [
    {
      "cell_type": "markdown",
      "source": [
        "**Sidratul Tanzila Tasmi\n",
        "<br>ID: 190041138\n",
        "<br>Department of Computer Science and Engineering**\n",
        "\n",
        "\n",
        "---\n",
        "\n"
      ],
      "metadata": {
        "id": "Dy_4TQ15mult"
      }
    },
    {
      "cell_type": "markdown",
      "source": [
        "#Import Necessary Libraries"
      ],
      "metadata": {
        "id": "j49r2Hdam6Bg"
      }
    },
    {
      "cell_type": "code",
      "source": [
        "import numpy as np\n",
        "import pandas as pd\n",
        "import matplotlib.pyplot as plt"
      ],
      "metadata": {
        "id": "6gmeN22bm44g"
      },
      "execution_count": null,
      "outputs": []
    },
    {
      "cell_type": "markdown",
      "source": [
        "#Task 1:"
      ],
      "metadata": {
        "id": "bGxyoEHAnU4w"
      }
    },
    {
      "cell_type": "markdown",
      "source": [
        "Question: Write a code that will take a sinusoid and quantize it using b bits. Use the\n",
        "sinusoid x(t) = sin(t) in the interval t=0:0.1:4*pi. Quantize x(t) using b = 4, 8,\n",
        "12 and 16 bits. For each case of b, plot the original signal and the quantized\n",
        "signal."
      ],
      "metadata": {
        "id": "RtrV-OTVnZkX"
      }
    },
    {
      "cell_type": "code",
      "source": [
        "def sinusoid_function(p=0, step=0.1):\n",
        "  start=p\n",
        "  destination=4*np.pi\n",
        "  t=np.arange(start, destination, step)\n",
        "  x=np.sin(t)\n",
        "  fig=plt.figure()\n",
        "  axis=fig.add_subplot(1,1,1)\n",
        "  plt.plot(t,x,'r')\n",
        "  plt.show()"
      ],
      "metadata": {
        "id": "-as82d0am_q3"
      },
      "execution_count": null,
      "outputs": []
    },
    {
      "cell_type": "markdown",
      "source": [
        "Function Explanation:\n",
        "<br>The above function has been used to plot the sinusoid function. It take two parameters p and q. P defines the starting point in the arange function and the destination is upto 4 times Pi value according to question. And the number of parameters are defined by the q point. X=Sin(t) is the function we needed to plot and then the plot is shown."
      ],
      "metadata": {
        "id": "29Odv7kATv7U"
      }
    },
    {
      "cell_type": "code",
      "source": [
        "sinusoid_function()"
      ],
      "metadata": {
        "colab": {
          "base_uri": "https://localhost:8080/",
          "height": 265
        },
        "id": "1C56zE6wn5ww",
        "outputId": "2efe428a-5073-4c3f-fd75-d71b78007beb"
      },
      "execution_count": null,
      "outputs": [
        {
          "output_type": "display_data",
          "data": {
            "text/plain": [
              "<Figure size 432x288 with 1 Axes>"
            ],
            "image/png": "[encoded data removed]"
          },
          "metadata": {
            "needs_background": "light"
          }
        }
      ]
    },
    {
      "cell_type": "code",
      "source": [
        "def quantize_signal(bit):\n",
        "  t=np.arange(0, 2*np.pi, 0.1)\n",
        "  x=np.sin(t)\n",
        "  level=np.linspace(-1,1, 2**bit)\n",
        "  for i in range(len(x)):\n",
        "    idx = (np.abs(level - x[i])).argmin()\n",
        "    x[i] = level[idx]\n",
        "\n",
        "  x = x + 1\n",
        "  x = x * ((2**bit)/2)\n",
        "  plt.stem(t, x, 'r')\n",
        "  plt.show()"
      ],
      "metadata": {
        "id": "dNxdtCHaoqrp"
      },
      "execution_count": null,
      "outputs": []
    },
    {
      "cell_type": "markdown",
      "source": [
        "Function Explanation:\n",
        "\n",
        "1.   The x axis in the function is defined by the t function. It is divided using the arange function, from 0 to 4*PI( which is 360 degree) using 0.1 as each steps value.\n",
        "2.   After that the function sin(t) has been plot where the y axis is defined by x.\n",
        "3.   The levels are created using the linspace function. It took the number of samples which is 2 to the power of the number of bits from the range -1 to +1.\n",
        "4.   For all the values of x in the signal, we try to understand the distance from the particular level which can be minimmum. That value is assigned to the range of x.\n",
        "5. The corresponding shifting is done and the graph is plotted.\n",
        "\n"
      ],
      "metadata": {
        "id": "u26yRTLwUyLu"
      }
    },
    {
      "cell_type": "code",
      "source": [
        "quantize_signal(4)"
      ],
      "metadata": {
        "colab": {
          "base_uri": "https://localhost:8080/",
          "height": 320
        },
        "id": "2GrmcjuZqQmW",
        "outputId": "90e63762-0d6f-4b62-bc59-fe1c3c984120"
      },
      "execution_count": null,
      "outputs": [
        {
          "output_type": "stream",
          "name": "stderr",
          "text": [
            "<ipython-input-57-875530f53045>:11: UserWarning: In Matplotlib 3.3 individual lines on a stem plot will be added as a LineCollection instead of individual lines. This significantly improves the performance of a stem plot. To remove this warning and switch to the new behaviour, set the \"use_line_collection\" keyword argument to True.\n",
            "  plt.stem(t, x, 'r')\n"
          ]
        },
        {
          "output_type": "display_data",
          "data": {
            "text/plain": [
              "<Figure size 432x288 with 1 Axes>"
            ],
            "image/png": "[encoded data removed]"
          },
          "metadata": {
            "needs_background": "light"
          }
        }
      ]
    },
    {
      "cell_type": "code",
      "source": [
        "quantize_signal(8)"
      ],
      "metadata": {
        "colab": {
          "base_uri": "https://localhost:8080/",
          "height": 320
        },
        "id": "W8CCjVa6qYAw",
        "outputId": "b6413ddf-d825-47a6-cb41-6acf0d04423c"
      },
      "execution_count": null,
      "outputs": [
        {
          "output_type": "stream",
          "name": "stderr",
          "text": [
            "<ipython-input-57-875530f53045>:11: UserWarning: In Matplotlib 3.3 individual lines on a stem plot will be added as a LineCollection instead of individual lines. This significantly improves the performance of a stem plot. To remove this warning and switch to the new behaviour, set the \"use_line_collection\" keyword argument to True.\n",
            "  plt.stem(t, x, 'r')\n"
          ]
        },
        {
          "output_type": "display_data",
          "data": {
            "text/plain": [
              "<Figure size 432x288 with 1 Axes>"
            ],
            "image/png": "[encoded data removed]"
          },
          "metadata": {
            "needs_background": "light"
          }
        }
      ]
    },
    {
      "cell_type": "code",
      "source": [
        "quantize_signal(12)"
      ],
      "metadata": {
        "colab": {
          "base_uri": "https://localhost:8080/",
          "height": 320
        },
        "id": "VY9_ADKxqyeU",
        "outputId": "de4c643f-e98a-4f07-c78b-d7c6252a40a6"
      },
      "execution_count": null,
      "outputs": [
        {
          "output_type": "stream",
          "name": "stderr",
          "text": [
            "<ipython-input-57-875530f53045>:11: UserWarning: In Matplotlib 3.3 individual lines on a stem plot will be added as a LineCollection instead of individual lines. This significantly improves the performance of a stem plot. To remove this warning and switch to the new behaviour, set the \"use_line_collection\" keyword argument to True.\n",
            "  plt.stem(t, x, 'r')\n"
          ]
        },
        {
          "output_type": "display_data",
          "data": {
            "text/plain": [
              "<Figure size 432x288 with 1 Axes>"
            ],
            "image/png": "[encoded data removed]"
          },
          "metadata": {
            "needs_background": "light"
          }
        }
      ]
    },
    {
      "cell_type": "code",
      "source": [
        "quantize_signal(16)"
      ],
      "metadata": {
        "colab": {
          "base_uri": "https://localhost:8080/",
          "height": 320
        },
        "id": "lIyF4x7Eqzhf",
        "outputId": "e9ea1fff-0df1-463a-c93b-3d3c8a58c75c"
      },
      "execution_count": null,
      "outputs": [
        {
          "output_type": "stream",
          "name": "stderr",
          "text": [
            "<ipython-input-57-875530f53045>:11: UserWarning: In Matplotlib 3.3 individual lines on a stem plot will be added as a LineCollection instead of individual lines. This significantly improves the performance of a stem plot. To remove this warning and switch to the new behaviour, set the \"use_line_collection\" keyword argument to True.\n",
            "  plt.stem(t, x, 'r')\n"
          ]
        },
        {
          "output_type": "display_data",
          "data": {
            "text/plain": [
              "<Figure size 432x288 with 1 Axes>"
            ],
            "image/png": "[encoded data removed]"
          },
          "metadata": {
            "needs_background": "light"
          }
        }
      ]
    },
    {
      "cell_type": "markdown",
      "source": [
        "#Task 2"
      ],
      "metadata": {
        "id": "33tfc8DJq2x9"
      }
    },
    {
      "cell_type": "markdown",
      "source": [
        "Question: Write functions delta(n), unity(n) and unitramp(n) which will depict the\n",
        "elementary signals we read about in the class. Each of this functions, for a\n",
        "given value of n (n>0), plots the corresponding signals in the range of –n to n."
      ],
      "metadata": {
        "id": "onhYBLgaq4fw"
      }
    },
    {
      "cell_type": "code",
      "source": [
        "def delta(n):\n",
        "    idx = np.arange(-n, n+1, 1)\n",
        "    x = np.zeros(len(idx))\n",
        "    x[0+n] = 1\n",
        "\n",
        "    plt.stem(idx, x, 'r')\n",
        "    plt.show()\n",
        "    return x, idx"
      ],
      "metadata": {
        "id": "gX09Q2wGq0sU"
      },
      "execution_count": null,
      "outputs": []
    },
    {
      "cell_type": "markdown",
      "source": [
        "Function Explanation:\n",
        "<br>The idx takes the range from -n to +n, including 0 with difference of 1 between each steps. Then all the values of the signal are assigned as 0 except the index that contains x axis value as 0, which is assigned 1. Then the functions are plotted."
      ],
      "metadata": {
        "id": "H4jagZJkby7t"
      }
    },
    {
      "cell_type": "code",
      "source": [
        "delta(4)"
      ],
      "metadata": {
        "colab": {
          "base_uri": "https://localhost:8080/",
          "height": 354
        },
        "id": "43bTIa5rr1HU",
        "outputId": "f8097efb-e2b3-48ef-f4e1-2fe5ab8b5157"
      },
      "execution_count": null,
      "outputs": [
        {
          "output_type": "stream",
          "name": "stderr",
          "text": [
            "<ipython-input-62-77cd26d7b21e>:6: UserWarning: In Matplotlib 3.3 individual lines on a stem plot will be added as a LineCollection instead of individual lines. This significantly improves the performance of a stem plot. To remove this warning and switch to the new behaviour, set the \"use_line_collection\" keyword argument to True.\n",
            "  plt.stem(idx, x, 'r')\n"
          ]
        },
        {
          "output_type": "display_data",
          "data": {
            "text/plain": [
              "<Figure size 432x288 with 1 Axes>"
            ],
            "image/png": "[encoded data removed]"
          },
          "metadata": {
            "needs_background": "light"
          }
        },
        {
          "output_type": "execute_result",
          "data": {
            "text/plain": [
              "(array([0., 0., 0., 0., 1., 0., 0., 0., 0.]),\n",
              " array([-4, -3, -2, -1,  0,  1,  2,  3,  4]))"
            ]
          },
          "metadata": {},
          "execution_count": 63
        }
      ]
    },
    {
      "cell_type": "code",
      "source": [
        "def unity(n):\n",
        "    idx = np.arange(-n, n+1, 1)\n",
        "    x = np.zeros(len(idx))\n",
        "    for i in range(n, len(idx)):\n",
        "        x[i] = 1\n",
        "    plt.stem(idx, x, 'r')\n",
        "    plt.show()\n",
        "    return x, idx"
      ],
      "metadata": {
        "id": "QVu-yE3Dr2Da"
      },
      "execution_count": null,
      "outputs": []
    },
    {
      "cell_type": "markdown",
      "source": [
        "Function Explanation:\n",
        "<br>The Unity function work similar as the previous function, but instead of just putting 1 in the index whose range value is 0, starting from that range to the end of the function all the values are put as 1 instead."
      ],
      "metadata": {
        "id": "yrOsjNaJcKOv"
      }
    },
    {
      "cell_type": "code",
      "source": [
        "unity(4)"
      ],
      "metadata": {
        "colab": {
          "base_uri": "https://localhost:8080/",
          "height": 354
        },
        "id": "DnDARUZdsUpc",
        "outputId": "0dba166f-4e8a-44ff-ccf6-0c1d210899f7"
      },
      "execution_count": null,
      "outputs": [
        {
          "output_type": "stream",
          "name": "stderr",
          "text": [
            "<ipython-input-64-07c8d80328a8>:6: UserWarning: In Matplotlib 3.3 individual lines on a stem plot will be added as a LineCollection instead of individual lines. This significantly improves the performance of a stem plot. To remove this warning and switch to the new behaviour, set the \"use_line_collection\" keyword argument to True.\n",
            "  plt.stem(idx, x, 'r')\n"
          ]
        },
        {
          "output_type": "display_data",
          "data": {
            "text/plain": [
              "<Figure size 432x288 with 1 Axes>"
            ],
            "image/png": "[encoded data removed]"
          },
          "metadata": {
            "needs_background": "light"
          }
        },
        {
          "output_type": "execute_result",
          "data": {
            "text/plain": [
              "(array([0., 0., 0., 0., 1., 1., 1., 1., 1.]),\n",
              " array([-4, -3, -2, -1,  0,  1,  2,  3,  4]))"
            ]
          },
          "metadata": {},
          "execution_count": 65
        }
      ]
    },
    {
      "cell_type": "code",
      "source": [
        "def unitramp(n):\n",
        "    idx = np.arange(-n, n+1, 1)\n",
        "    x = np.zeros(len(idx))\n",
        "    increament = 1\n",
        "    for i in range(n+1, len(idx)):\n",
        "        x[i] = increament\n",
        "        increament+=1\n",
        "\n",
        "    plt.stem(idx, x, 'r')\n",
        "    plt.show()\n",
        "    return x, idx"
      ],
      "metadata": {
        "id": "2Fxpfr62sV-6"
      },
      "execution_count": null,
      "outputs": []
    },
    {
      "cell_type": "code",
      "source": [
        "unitramp(4)"
      ],
      "metadata": {
        "colab": {
          "base_uri": "https://localhost:8080/",
          "height": 354
        },
        "id": "NE7TiEbOsyry",
        "outputId": "639fe24a-8682-485e-857a-da1ea10872ab"
      },
      "execution_count": null,
      "outputs": [
        {
          "output_type": "stream",
          "name": "stderr",
          "text": [
            "<ipython-input-66-e4807c6a986e>:9: UserWarning: In Matplotlib 3.3 individual lines on a stem plot will be added as a LineCollection instead of individual lines. This significantly improves the performance of a stem plot. To remove this warning and switch to the new behaviour, set the \"use_line_collection\" keyword argument to True.\n",
            "  plt.stem(idx, x, 'r')\n"
          ]
        },
        {
          "output_type": "display_data",
          "data": {
            "text/plain": [
              "<Figure size 432x288 with 1 Axes>"
            ],
            "image/png": "[encoded data removed]"
          },
          "metadata": {
            "needs_background": "light"
          }
        },
        {
          "output_type": "execute_result",
          "data": {
            "text/plain": [
              "(array([0., 0., 0., 0., 0., 1., 2., 3., 4.]),\n",
              " array([-4, -3, -2, -1,  0,  1,  2,  3,  4]))"
            ]
          },
          "metadata": {},
          "execution_count": 67
        }
      ]
    },
    {
      "cell_type": "markdown",
      "source": [
        "Function Explanation:\n",
        "<br> In this case, starting from the index where the x axis value is zero, for each iteration the corresponding value is increased."
      ],
      "metadata": {
        "id": "83oUHrISclAU"
      }
    },
    {
      "cell_type": "markdown",
      "source": [
        "#Task 3:"
      ],
      "metadata": {
        "id": "aASnrG35s2a1"
      }
    },
    {
      "cell_type": "markdown",
      "source": [
        "Question: Write a function that will take as input an arbitrary signal x(n) and divide it\n",
        "into Symmetric (even) and Antisymmetric (odd) parts and plots the three\n",
        "signals (original signal, even part and odd part) in the same plot."
      ],
      "metadata": {
        "id": "IFoheeLSs4rA"
      }
    },
    {
      "cell_type": "code",
      "source": [
        "def sigfold_function(x, plot=True):\n",
        "  n=len(x)\n",
        "  n=(n-1)/2\n",
        "  range=np.arange(-n, n+1, 1)\n",
        "  new_range=-range[::-1]\n",
        "  y=x[::-1]\n",
        "  if plot:\n",
        "    plt.stem(new_range, x, 'r', label='Original Signal')\n",
        "    plt.title(\"Original Signal\")\n",
        "    plt.show()\n",
        "  return y, new_range\n"
      ],
      "metadata": {
        "id": "RdBoEH0Ms0Ao"
      },
      "execution_count": null,
      "outputs": []
    },
    {
      "cell_type": "markdown",
      "source": [
        "Function Explanation:\n",
        "<br> The sigfold function works to inverse the signal. For the value of signal, it is divided into two parts where each part is then arranged using the arange function. The newly assigned range is assigned by inversing the previous range values."
      ],
      "metadata": {
        "id": "ir6Lr-_scyZa"
      }
    },
    {
      "cell_type": "code",
      "source": [
        "def printsignal(x,y):\n",
        "  plt.stem(y, x, 'g', label='New Signal')\n",
        "  plt.title(\"New Signal\")\n",
        "  plt.show()\n"
      ],
      "metadata": {
        "id": "vMrPslr5yEPm"
      },
      "execution_count": null,
      "outputs": []
    },
    {
      "cell_type": "code",
      "source": [
        "n=4\n",
        "idx = np.arange(-n, n+1, 1)\n",
        "x = np.zeros(len(idx))\n",
        "increament = 1\n",
        "for i in range(n+1, len(idx)):\n",
        "    x[i] = increament\n",
        "    increament+=1\n",
        "y, new_range=sigfold_function(x)\n",
        "x_even = (x + y)/2\n",
        "printsignal(new_range,x_even)\n",
        "x_odd = (x - y)/2\n",
        "printsignal(new_range,x_odd)"
      ],
      "metadata": {
        "colab": {
          "base_uri": "https://localhost:8080/",
          "height": 933
        },
        "id": "hDzdV3JIv7dI",
        "outputId": "7d42feff-4f5b-460b-a514-657734539dee"
      },
      "execution_count": null,
      "outputs": [
        {
          "output_type": "stream",
          "name": "stderr",
          "text": [
            "<ipython-input-68-61c8bcd739ad>:8: UserWarning: In Matplotlib 3.3 individual lines on a stem plot will be added as a LineCollection instead of individual lines. This significantly improves the performance of a stem plot. To remove this warning and switch to the new behaviour, set the \"use_line_collection\" keyword argument to True.\n",
            "  plt.stem(new_range, x, 'r', label='Original Signal')\n"
          ]
        },
        {
          "output_type": "display_data",
          "data": {
            "text/plain": [
              "<Figure size 432x288 with 1 Axes>"
            ],
            "image/png": "[encoded data removed]"
          },
          "metadata": {
            "needs_background": "light"
          }
        },
        {
          "output_type": "stream",
          "name": "stderr",
          "text": [
            "<ipython-input-69-06a13967d7a9>:2: UserWarning: In Matplotlib 3.3 individual lines on a stem plot will be added as a LineCollection instead of individual lines. This significantly improves the performance of a stem plot. To remove this warning and switch to the new behaviour, set the \"use_line_collection\" keyword argument to True.\n",
            "  plt.stem(y, x, 'g', label='New Signal')\n"
          ]
        },
        {
          "output_type": "display_data",
          "data": {
            "text/plain": [
              "<Figure size 432x288 with 1 Axes>"
            ],
            "image/png": "[encoded data removed]"
          },
          "metadata": {
            "needs_background": "light"
          }
        },
        {
          "output_type": "stream",
          "name": "stderr",
          "text": [
            "<ipython-input-69-06a13967d7a9>:2: UserWarning: In Matplotlib 3.3 individual lines on a stem plot will be added as a LineCollection instead of individual lines. This significantly improves the performance of a stem plot. To remove this warning and switch to the new behaviour, set the \"use_line_collection\" keyword argument to True.\n",
            "  plt.stem(y, x, 'g', label='New Signal')\n"
          ]
        },
        {
          "output_type": "display_data",
          "data": {
            "text/plain": [
              "<Figure size 432x288 with 1 Axes>"
            ],
            "image/png": "[encoded data removed]"
          },
          "metadata": {
            "needs_background": "light"
          }
        }
      ]
    },
    {
      "cell_type": "markdown",
      "source": [
        "The odd and even signals are calculated using:\n",
        "##### even signal = (x[n] + x[-n]) / 2\n",
        "##### odd signal  = (x[n] - x[-n]) / 2"
      ],
      "metadata": {
        "id": "jv6VdUuQe_Qk"
      }
    },
    {
      "cell_type": "markdown",
      "source": [
        "#Task 4"
      ],
      "metadata": {
        "id": "Zx422NzPyd_T"
      }
    },
    {
      "cell_type": "markdown",
      "source": [
        "Question: Write a function sigshift that takes a signal x(n) and a shift value k as inputs\n",
        "and returns the resulting signal y(n) = x(n-k)."
      ],
      "metadata": {
        "id": "CLbA6lpoyfM_"
      }
    },
    {
      "cell_type": "code",
      "source": [
        "def sigshift(x,k):\n",
        "  n=len(x)\n",
        "  n=(n-1)/2\n",
        "  range=np.arange(-n, n+1, 1)\n",
        "  new_range=range+k\n",
        "  plt.stem(new_range, x, 'g')\n",
        "  plt.show()"
      ],
      "metadata": {
        "id": "zODSPSfdwFdy"
      },
      "execution_count": null,
      "outputs": []
    },
    {
      "cell_type": "markdown",
      "source": [
        "Function Explanation:\n",
        "<br> The sigshift function shifts the signal with a value k and then the newly formed range is assigned to the new_range set of values."
      ],
      "metadata": {
        "id": "9OIIia1gdzKy"
      }
    },
    {
      "cell_type": "code",
      "source": [
        "def tramp(n):\n",
        "  idx = np.arange(-n, n+1, 1)\n",
        "  x = np.zeros(len(idx))\n",
        "  increament = 1\n",
        "  for i in range(n, len(idx)):\n",
        "      x[i] = increament\n",
        "      increament+=1\n",
        "  return x\n"
      ],
      "metadata": {
        "id": "9hECzx4RzTaK"
      },
      "execution_count": null,
      "outputs": []
    },
    {
      "cell_type": "markdown",
      "source": [
        "Function Explanation:\n",
        "<br> The tramp function is used to create the function for range of values.After applying the sift function, we can see that the values have shifted."
      ],
      "metadata": {
        "id": "_TsGD9YyesR4"
      }
    },
    {
      "cell_type": "code",
      "source": [
        "y=tramp(4)\n",
        "sigshift(y,1)"
      ],
      "metadata": {
        "colab": {
          "base_uri": "https://localhost:8080/",
          "height": 320
        },
        "id": "quhhFE2PzjZM",
        "outputId": "fe7ac4f3-f84d-4add-98fc-0e42d393287b"
      },
      "execution_count": null,
      "outputs": [
        {
          "output_type": "stream",
          "name": "stderr",
          "text": [
            "<ipython-input-71-98900028ae80>:6: UserWarning: In Matplotlib 3.3 individual lines on a stem plot will be added as a LineCollection instead of individual lines. This significantly improves the performance of a stem plot. To remove this warning and switch to the new behaviour, set the \"use_line_collection\" keyword argument to True.\n",
            "  plt.stem(new_range, x, 'g')\n"
          ]
        },
        {
          "output_type": "display_data",
          "data": {
            "text/plain": [
              "<Figure size 432x288 with 1 Axes>"
            ],
            "image/png": "[encoded data removed]"
          },
          "metadata": {
            "needs_background": "light"
          }
        }
      ]
    },
    {
      "cell_type": "markdown",
      "source": [
        "#Task 5"
      ],
      "metadata": {
        "id": "mf-aHPch1yfm"
      }
    },
    {
      "cell_type": "markdown",
      "source": [
        "Question: Write a function sigfold that takes a signal x(n) and returns the resulting\n",
        "signal y(n) = x(-n). Verify the correctness of your function by taking suitable\n",
        "signals as input/output and plotting them."
      ],
      "metadata": {
        "id": "ekQ1-QSg10Gt"
      }
    },
    {
      "cell_type": "code",
      "source": [
        "x,_=unitramp(4)\n",
        "y, idx= sigfold_function(y)"
      ],
      "metadata": {
        "colab": {
          "base_uri": "https://localhost:8080/",
          "height": 618
        },
        "id": "HXyqYII_13os",
        "outputId": "276f05ee-1500-4d57-d191-0fff306a2234"
      },
      "execution_count": null,
      "outputs": [
        {
          "output_type": "stream",
          "name": "stderr",
          "text": [
            "<ipython-input-66-e4807c6a986e>:9: UserWarning: In Matplotlib 3.3 individual lines on a stem plot will be added as a LineCollection instead of individual lines. This significantly improves the performance of a stem plot. To remove this warning and switch to the new behaviour, set the \"use_line_collection\" keyword argument to True.\n",
            "  plt.stem(idx, x, 'r')\n"
          ]
        },
        {
          "output_type": "display_data",
          "data": {
            "text/plain": [
              "<Figure size 432x288 with 1 Axes>"
            ],
            "image/png": "[encoded data removed]"
          },
          "metadata": {
            "needs_background": "light"
          }
        },
        {
          "output_type": "stream",
          "name": "stderr",
          "text": [
            "<ipython-input-68-61c8bcd739ad>:8: UserWarning: In Matplotlib 3.3 individual lines on a stem plot will be added as a LineCollection instead of individual lines. This significantly improves the performance of a stem plot. To remove this warning and switch to the new behaviour, set the \"use_line_collection\" keyword argument to True.\n",
            "  plt.stem(new_range, x, 'r', label='Original Signal')\n"
          ]
        },
        {
          "output_type": "display_data",
          "data": {
            "text/plain": [
              "<Figure size 432x288 with 1 Axes>"
            ],
            "image/png": "[encoded data removed]"
          },
          "metadata": {
            "needs_background": "light"
          }
        }
      ]
    },
    {
      "cell_type": "markdown",
      "source": [
        "Task Explanation:\n",
        "<br> The sigfold function reverses the range. Making a mirror of one signal."
      ],
      "metadata": {
        "id": "rbHVgp3_hN_K"
      }
    },
    {
      "cell_type": "markdown",
      "source": [
        "#Task 6"
      ],
      "metadata": {
        "id": "SPiSdr7Z2Sfo"
      }
    },
    {
      "cell_type": "markdown",
      "source": [
        "Question: Write a function downsample that takes a signal x(n) and a value d (d is an\n",
        "integer, d>1) and returns the down-sampled signal y(n) = x(dn). Verify the\n",
        "correctness by plotting suitable input/output signals."
      ],
      "metadata": {
        "id": "5bZd_Xym2U-C"
      }
    },
    {
      "cell_type": "code",
      "source": [
        "def downsample(x, d):\n",
        "    n = len(x)\n",
        "    n = (n-1)/2\n",
        "    new_range = np.arange(-n, n+1, 1)\n",
        "    y = x[x%d==0]\n",
        "    y.resize(new_range.shape) # To match the indices array shape\n",
        "\n",
        "    plt.stem(new_range, y, 'g')\n",
        "    plt.show()\n"
      ],
      "metadata": {
        "id": "zBCIsrxS2MEK"
      },
      "execution_count": null,
      "outputs": []
    },
    {
      "cell_type": "code",
      "source": [
        "x=tramp(4)\n",
        "downsample(x,2)"
      ],
      "metadata": {
        "colab": {
          "base_uri": "https://localhost:8080/",
          "height": 320
        },
        "id": "-5XvJ-Z84HyL",
        "outputId": "a2d061b0-0979-4fe8-a9b0-4c07d4acedfe"
      },
      "execution_count": null,
      "outputs": [
        {
          "output_type": "stream",
          "name": "stderr",
          "text": [
            "<ipython-input-75-39874ce532b6>:8: UserWarning: In Matplotlib 3.3 individual lines on a stem plot will be added as a LineCollection instead of individual lines. This significantly improves the performance of a stem plot. To remove this warning and switch to the new behaviour, set the \"use_line_collection\" keyword argument to True.\n",
            "  plt.stem(new_range, y, 'g')\n"
          ]
        },
        {
          "output_type": "display_data",
          "data": {
            "text/plain": [
              "<Figure size 432x288 with 1 Axes>"
            ],
            "image/png": "[encoded data removed]"
          },
          "metadata": {
            "needs_background": "light"
          }
        }
      ]
    },
    {
      "cell_type": "markdown",
      "source": [
        "Task Explanation:\n",
        "<br> Downsample reduces the number of samples. The index which is divisible by the value of 2 is checked and are sampled only."
      ],
      "metadata": {
        "id": "U4xyKp4k4JeR"
      }
    },
    {
      "cell_type": "markdown",
      "source": [
        "#Task 7"
      ],
      "metadata": {
        "id": "1eNgh2Fb47Rb"
      }
    },
    {
      "cell_type": "markdown",
      "source": [
        "Question: Write a function sigadd that takes two signals x1(n) and x2(n) as inputs and\n",
        "returns the resulting signal y(n) = x1(n)+x2(n)."
      ],
      "metadata": {
        "id": "eCXHyAk64-1o"
      }
    },
    {
      "cell_type": "code",
      "source": [
        "def sigadd(x1, x2):\n",
        "    n1 = len(x1)\n",
        "    n1 = (n1-1)/2\n",
        "    p1 = np.arange(-n1, n1+1, 1)\n",
        "\n",
        "\n",
        "    n2 = len(x2)\n",
        "    n2 = (n2-1)/2\n",
        "    p2 = np.arange(-n2, n2+1, 1)\n",
        "\n",
        "\n",
        "    l= min(min(p1), min(p2))\n",
        "    h = max(max(p1), max(p2)) + 1\n",
        "    idx = np.arange(l, h, 1)\n",
        "\n",
        "    y1 = np.zeros(len(idx))\n",
        "    y2 = np.zeros(len(idx))\n",
        "    y1[np.nonzero((idx >= min(p1)) & (idx <= max(p1)))] = x1\n",
        "    y2[np.nonzero((idx >= min(p2)) & (idx <= max(p2)))] = x2\n",
        "\n",
        "    y = y1 + y2\n",
        "    plt.stem(idx, y, 'g')\n",
        "    plt.title(\"Resultant Signal\")\n",
        "    plt.show()\n",
        ""
      ],
      "metadata": {
        "id": "ETMGsqdl4_zO"
      },
      "execution_count": null,
      "outputs": []
    },
    {
      "cell_type": "markdown",
      "source": [
        "Function Explanation:\n",
        "<br>The function takes two parameters x1 and x2 and by doing basic mathematical operations, try to find the length and range for each of it. After that the minimmum and maximumm indeces are measured and the idx contains the range from low to high for the combined signal. Y1 and y2 contain the position for the two range of x1 and x2 and y is the combined of this two. Then it is plotted."
      ],
      "metadata": {
        "id": "WTSDY9358oEy"
      }
    },
    {
      "cell_type": "code",
      "source": [
        "x1, _ = unitramp(4)\n",
        "x2, _ = unitramp(8)\n",
        "sigadd(x1, x2)\n"
      ],
      "metadata": {
        "id": "1lI3lTDn7D2d",
        "colab": {
          "base_uri": "https://localhost:8080/",
          "height": 901
        },
        "outputId": "94b53609-baff-4ba0-d917-082eff0fa65a"
      },
      "execution_count": null,
      "outputs": [
        {
          "output_type": "stream",
          "name": "stderr",
          "text": [
            "<ipython-input-66-e4807c6a986e>:9: UserWarning: In Matplotlib 3.3 individual lines on a stem plot will be added as a LineCollection instead of individual lines. This significantly improves the performance of a stem plot. To remove this warning and switch to the new behaviour, set the \"use_line_collection\" keyword argument to True.\n",
            "  plt.stem(idx, x, 'r')\n"
          ]
        },
        {
          "output_type": "display_data",
          "data": {
            "text/plain": [
              "<Figure size 432x288 with 1 Axes>"
            ],
            "image/png": "[encoded data removed]"
          },
          "metadata": {
            "needs_background": "light"
          }
        },
        {
          "output_type": "stream",
          "name": "stderr",
          "text": [
            "<ipython-input-66-e4807c6a986e>:9: UserWarning: In Matplotlib 3.3 individual lines on a stem plot will be added as a LineCollection instead of individual lines. This significantly improves the performance of a stem plot. To remove this warning and switch to the new behaviour, set the \"use_line_collection\" keyword argument to True.\n",
            "  plt.stem(idx, x, 'r')\n"
          ]
        },
        {
          "output_type": "display_data",
          "data": {
            "text/plain": [
              "<Figure size 432x288 with 1 Axes>"
            ],
            "image/png": "[encoded data removed]"
          },
          "metadata": {
            "needs_background": "light"
          }
        },
        {
          "output_type": "stream",
          "name": "stderr",
          "text": [
            "<ipython-input-77-c3baffc22c28>:22: UserWarning: In Matplotlib 3.3 individual lines on a stem plot will be added as a LineCollection instead of individual lines. This significantly improves the performance of a stem plot. To remove this warning and switch to the new behaviour, set the \"use_line_collection\" keyword argument to True.\n",
            "  plt.stem(idx, y, 'g')\n"
          ]
        },
        {
          "output_type": "display_data",
          "data": {
            "text/plain": [
              "<Figure size 432x288 with 1 Axes>"
            ],
            "image/png": "[encoded data removed]"
          },
          "metadata": {
            "needs_background": "light"
          }
        }
      ]
    },
    {
      "cell_type": "markdown",
      "source": [
        "#Task 8"
      ],
      "metadata": {
        "id": "2XbLWuyqPTl-"
      }
    },
    {
      "cell_type": "markdown",
      "source": [
        "Question: Write a function sigmult that takes two signals x1(n) and x2(n) as inputs and\n",
        "returns the resulting signal y(n) = x1(n)*x2(n)."
      ],
      "metadata": {
        "id": "bS5XUKKcPVgF"
      }
    },
    {
      "cell_type": "code",
      "source": [
        "def sigmult(x1, x2):\n",
        "    n1 = len(x1)\n",
        "    n1 = (n1-1)/2\n",
        "    p1 = np.arange(-n1, n1+1, 1)\n",
        "\n",
        "\n",
        "    n2 = len(x2)\n",
        "    n2 = (n2-1)/2\n",
        "    p2 = np.arange(-n2, n2+1, 1)\n",
        "\n",
        "\n",
        "    l= min(min(p1), min(p2))\n",
        "    h = max(max(p1), max(p2)) + 1\n",
        "    idx = np.arange(l, h, 1)\n",
        "\n",
        "    y1 = np.zeros(len(idx))\n",
        "    y2 = np.zeros(len(idx))\n",
        "    y1[np.nonzero((idx >= min(p1)) & (idx <= max(p1)))] = x1\n",
        "    y2[np.nonzero((idx >= min(p2)) & (idx <= max(p2)))] = x2\n",
        "\n",
        "    y = y1 * y2\n",
        "    plt.stem(idx, y, 'g')\n",
        "    plt.title(\"Resultant Signal\")\n",
        "    plt.show()\n",
        ""
      ],
      "metadata": {
        "id": "83H09SPY9CT3"
      },
      "execution_count": null,
      "outputs": []
    },
    {
      "cell_type": "code",
      "source": [
        "x1, _ = unitramp(4)\n",
        "x2, _ = unitramp(8)\n",
        "sigmult(x1, x2)\n"
      ],
      "metadata": {
        "colab": {
          "base_uri": "https://localhost:8080/",
          "height": 901
        },
        "id": "LE1GdDOBQmyR",
        "outputId": "98c9b9ef-16dd-4a45-bb3d-67401686a32b"
      },
      "execution_count": null,
      "outputs": [
        {
          "output_type": "stream",
          "name": "stderr",
          "text": [
            "<ipython-input-66-e4807c6a986e>:9: UserWarning: In Matplotlib 3.3 individual lines on a stem plot will be added as a LineCollection instead of individual lines. This significantly improves the performance of a stem plot. To remove this warning and switch to the new behaviour, set the \"use_line_collection\" keyword argument to True.\n",
            "  plt.stem(idx, x, 'r')\n"
          ]
        },
        {
          "output_type": "display_data",
          "data": {
            "text/plain": [
              "<Figure size 432x288 with 1 Axes>"
            ],
            "image/png": "[encoded data removed]"
          },
          "metadata": {
            "needs_background": "light"
          }
        },
        {
          "output_type": "stream",
          "name": "stderr",
          "text": [
            "<ipython-input-66-e4807c6a986e>:9: UserWarning: In Matplotlib 3.3 individual lines on a stem plot will be added as a LineCollection instead of individual lines. This significantly improves the performance of a stem plot. To remove this warning and switch to the new behaviour, set the \"use_line_collection\" keyword argument to True.\n",
            "  plt.stem(idx, x, 'r')\n"
          ]
        },
        {
          "output_type": "display_data",
          "data": {
            "text/plain": [
              "<Figure size 432x288 with 1 Axes>"
            ],
            "image/png": "[encoded data removed]"
          },
          "metadata": {
            "needs_background": "light"
          }
        },
        {
          "output_type": "stream",
          "name": "stderr",
          "text": [
            "<ipython-input-79-7ff66eccf3e5>:22: UserWarning: In Matplotlib 3.3 individual lines on a stem plot will be added as a LineCollection instead of individual lines. This significantly improves the performance of a stem plot. To remove this warning and switch to the new behaviour, set the \"use_line_collection\" keyword argument to True.\n",
            "  plt.stem(idx, y, 'g')\n"
          ]
        },
        {
          "output_type": "display_data",
          "data": {
            "text/plain": [
              "<Figure size 432x288 with 1 Axes>"
            ],
            "image/png": "[encoded data removed]"
          },
          "metadata": {
            "needs_background": "light"
          }
        }
      ]
    },
    {
      "cell_type": "markdown",
      "source": [
        "Function Explanation: <br> The function works similar to task 7 except we multiply the signals instead of addittion."
      ],
      "metadata": {
        "id": "UAXN7m8x_fcT"
      }
    },
    {
      "cell_type": "markdown",
      "source": [
        "#Task 9"
      ],
      "metadata": {
        "id": "xi7meSVMTHnv"
      }
    },
    {
      "cell_type": "code",
      "source": [
        "def accumulate(x):\n",
        "    n = len(x)\n",
        "    y = np.zeros(n)\n",
        "    n= int((n-1)/2)\n",
        "    idx = np.arange(-n, n + 1, 1)\n",
        "\n",
        "    y[0] = x[0]\n",
        "    for i in range(1, n):\n",
        "        y[i] = y[i-1] + x[i]\n",
        "\n",
        "    return y, idx\n",
        "\n"
      ],
      "metadata": {
        "id": "U4WuxBubQrR2"
      },
      "execution_count": null,
      "outputs": []
    },
    {
      "cell_type": "code",
      "source": [
        "x = [0, 3, 2, 1, 0, 1, 2, 3, 0]\n",
        "n = int((len(x)-1)/2)\n",
        "idx = np.arange(-n,n+ 1, 1)\n",
        "\n",
        "plt.stem(idx, x, linefmt = 'r')\n",
        "plt.show()\n",
        "y, acc_idx = accumulate(x)\n",
        "plt.stem(acc_idx, y, linefmt = 'g')\n",
        "plt.show()"
      ],
      "metadata": {
        "id": "HIJpgoGWRv-j",
        "colab": {
          "base_uri": "https://localhost:8080/",
          "height": 602
        },
        "outputId": "165310d5-2586-44f4-a7a7-ba34391b73e4"
      },
      "execution_count": null,
      "outputs": [
        {
          "output_type": "stream",
          "name": "stderr",
          "text": [
            "<ipython-input-82-97f801be748f>:5: UserWarning: In Matplotlib 3.3 individual lines on a stem plot will be added as a LineCollection instead of individual lines. This significantly improves the performance of a stem plot. To remove this warning and switch to the new behaviour, set the \"use_line_collection\" keyword argument to True.\n",
            "  plt.stem(idx, x, linefmt = 'r')\n"
          ]
        },
        {
          "output_type": "display_data",
          "data": {
            "text/plain": [
              "<Figure size 432x288 with 1 Axes>"
            ],
            "image/png": "[encoded data removed]"
          },
          "metadata": {
            "needs_background": "light"
          }
        },
        {
          "output_type": "stream",
          "name": "stderr",
          "text": [
            "<ipython-input-82-97f801be748f>:8: UserWarning: In Matplotlib 3.3 individual lines on a stem plot will be added as a LineCollection instead of individual lines. This significantly improves the performance of a stem plot. To remove this warning and switch to the new behaviour, set the \"use_line_collection\" keyword argument to True.\n",
            "  plt.stem(acc_idx, y, linefmt = 'g')\n"
          ]
        },
        {
          "output_type": "display_data",
          "data": {
            "text/plain": [
              "<Figure size 432x288 with 1 Axes>"
            ],
            "image/png": "[encoded data removed]"
          },
          "metadata": {
            "needs_background": "light"
          }
        }
      ]
    },
    {
      "cell_type": "markdown",
      "source": [
        "Task Explanation:\n",
        "<br>In this task, the signal x is taken as a parameter in the function. Then the value of x is accumulated to signal y. Firstly it creates an array of zero with the size of that of x and that assigns it to y.Then a boundary value of the index is created and assigned to the array idx. The input signal and the new signal are then plotted."
      ],
      "metadata": {
        "id": "lbtx_gASCTX8"
      }
    }
  ]
}