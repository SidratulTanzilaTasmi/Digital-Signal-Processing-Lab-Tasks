{
  "nbformat": 4,
  "nbformat_minor": 0,
  "metadata": {
    "colab": {
      "provenance": []
    },
    "kernelspec": {
      "name": "python3",
      "display_name": "Python 3"
    },
    "language_info": {
      "name": "python"
    }
  },
  "cells": [
    {
      "cell_type": "markdown",
      "source": [
        "**Sidratul Tanzila Tasmi**\n",
        "<br>ID: 190041138\n",
        "<br>Department of Computer Science and Engineering*"
      ],
      "metadata": {
        "id": "pTF0iSnGr5Rl"
      }
    },
    {
      "cell_type": "code",
      "execution_count": null,
      "metadata": {
        "id": "nC20bWyJjoJF"
      },
      "outputs": [],
      "source": [
        "import numpy as np"
      ]
    },
    {
      "cell_type": "markdown",
      "source": [
        "Explaination: Numpy is a built in python library that works with arrays. By using numpy we can do various simple linear transformation operations."
      ],
      "metadata": {
        "id": "tADDaC6zbVlG"
      }
    },
    {
      "cell_type": "markdown",
      "source": [
        "Task 1:"
      ],
      "metadata": {
        "id": "9wKEuEkPkU_o"
      }
    },
    {
      "cell_type": "markdown",
      "source": [
        "a. Create a row vector x of 5 equally spaced elements between 2 and 3 add 1 to the\n",
        "second element"
      ],
      "metadata": {
        "id": "lDXWDLjDkYGF"
      }
    },
    {
      "cell_type": "code",
      "source": [
        "x= np.linspace(2,3,5)"
      ],
      "metadata": {
        "id": "tW0pn8zLkEiW"
      },
      "execution_count": null,
      "outputs": []
    },
    {
      "cell_type": "code",
      "source": [
        "x[1]= x[1]+1"
      ],
      "metadata": {
        "id": "183xsYDfkeo-"
      },
      "execution_count": null,
      "outputs": []
    },
    {
      "cell_type": "code",
      "source": [
        "x"
      ],
      "metadata": {
        "colab": {
          "base_uri": "https://localhost:8080/"
        },
        "id": "w78QoRP9kqoa",
        "outputId": "f1429be9-639c-4a6a-b730-d6ff76a65d30"
      },
      "execution_count": null,
      "outputs": [
        {
          "output_type": "execute_result",
          "data": {
            "text/plain": [
              "array([2.  , 3.25, 2.5 , 2.75, 3.  ])"
            ]
          },
          "metadata": {},
          "execution_count": 10
        }
      ]
    },
    {
      "cell_type": "markdown",
      "source": [
        "Task explaination: linspace is a built in function under numpy, It takes 3 parameters, the start and end elements of the array and the third element defines the number of steps.  "
      ],
      "metadata": {
        "id": "U4vRmRDjbglK"
      }
    },
    {
      "cell_type": "markdown",
      "source": [
        "b. Create a second-row vector y of same dimension with elements equal to the\n",
        "successive even integers starting with 4."
      ],
      "metadata": {
        "id": "eqRjeWf3kvpb"
      }
    },
    {
      "cell_type": "code",
      "source": [
        "y= np.arange(4, 14, 2)"
      ],
      "metadata": {
        "id": "TbqLYb3aksVp"
      },
      "execution_count": null,
      "outputs": []
    },
    {
      "cell_type": "code",
      "source": [
        "y"
      ],
      "metadata": {
        "colab": {
          "base_uri": "https://localhost:8080/"
        },
        "id": "pBNts6B3meSD",
        "outputId": "6698b0ca-e5b3-489a-885a-0544bec16490"
      },
      "execution_count": null,
      "outputs": [
        {
          "output_type": "execute_result",
          "data": {
            "text/plain": [
              "array([ 4,  6,  8, 10, 12])"
            ]
          },
          "metadata": {},
          "execution_count": 12
        }
      ]
    },
    {
      "cell_type": "markdown",
      "source": [
        "Task Explaination: arange is a built in python function under numpy. It is used to create an array that can arrange the array across a range of distribution where the first and second parameter define the range. The third element define the number of steps based on which the elements will be arranged."
      ],
      "metadata": {
        "id": "HiIDaWh8dTOW"
      }
    },
    {
      "cell_type": "markdown",
      "source": [
        "c. Create the matrix A, whose first row is equal to x, whose second row is a line of ones,\n",
        "and whose third row is equal to y."
      ],
      "metadata": {
        "id": "yvuc0FFdlTCU"
      }
    },
    {
      "cell_type": "code",
      "source": [
        "A= [list(x), np.ones(5), list(y)]"
      ],
      "metadata": {
        "id": "TU0LPLlNlRz5"
      },
      "execution_count": null,
      "outputs": []
    },
    {
      "cell_type": "code",
      "source": [
        "A=np.array(A)"
      ],
      "metadata": {
        "id": "42sCXfZwm0YW"
      },
      "execution_count": null,
      "outputs": []
    },
    {
      "cell_type": "code",
      "source": [
        "A"
      ],
      "metadata": {
        "colab": {
          "base_uri": "https://localhost:8080/"
        },
        "id": "cH_zLHPum03x",
        "outputId": "0ffb2b56-1de6-45bd-8206-fb736f676c55"
      },
      "execution_count": null,
      "outputs": [
        {
          "output_type": "execute_result",
          "data": {
            "text/plain": [
              "array([[ 2.  ,  3.25,  2.5 ,  2.75,  3.  ],\n",
              "       [ 1.  ,  1.  ,  1.  ,  1.  ,  1.  ],\n",
              "       [ 4.  ,  6.  ,  8.  , 10.  , 12.  ]])"
            ]
          },
          "metadata": {},
          "execution_count": 15
        }
      ]
    },
    {
      "cell_type": "markdown",
      "source": [
        "Task Explaination: array function is called to make a list of vectors arranged in a matrix form. np.ones function is used to put 1 upto a certain range."
      ],
      "metadata": {
        "id": "D-gRGYoudzBB"
      }
    },
    {
      "cell_type": "markdown",
      "source": [
        "d. Define a row vector z, whose elements are equal to the mean value of the columns of A"
      ],
      "metadata": {
        "id": "9v4EYNcsnDpz"
      }
    },
    {
      "cell_type": "code",
      "source": [
        "z= A.mean(axis=0)"
      ],
      "metadata": {
        "id": "fXTPUgKWm6r_"
      },
      "execution_count": null,
      "outputs": []
    },
    {
      "cell_type": "code",
      "source": [
        "z"
      ],
      "metadata": {
        "colab": {
          "base_uri": "https://localhost:8080/"
        },
        "id": "UBdbcAlBnkGn",
        "outputId": "5191371b-daf4-4c5d-831e-504a1037ba47"
      },
      "execution_count": null,
      "outputs": [
        {
          "output_type": "execute_result",
          "data": {
            "text/plain": [
              "array([2.33333333, 3.41666667, 3.83333333, 4.58333333, 5.33333333])"
            ]
          },
          "metadata": {},
          "execution_count": 17
        }
      ]
    },
    {
      "cell_type": "markdown",
      "source": [
        "Explanation: writing axis 0 will calculate the mean value of the values in that. Axis 0 runs vertically in this matrix."
      ],
      "metadata": {
        "id": "9t_Bgc62eZ3k"
      }
    },
    {
      "cell_type": "markdown",
      "source": [
        "e. Define a column vector zz, whose elements are the sum of the elements in each rows\n",
        "of A."
      ],
      "metadata": {
        "id": "xqCPhxDinoJ0"
      }
    },
    {
      "cell_type": "code",
      "source": [
        "zz= A.sum(axis=1)"
      ],
      "metadata": {
        "id": "t5FRAvT6nkYX"
      },
      "execution_count": null,
      "outputs": []
    },
    {
      "cell_type": "code",
      "source": [
        "zz"
      ],
      "metadata": {
        "colab": {
          "base_uri": "https://localhost:8080/"
        },
        "id": "wLAA4jfTnwJN",
        "outputId": "69b9dc2f-f409-4e17-9bde-117b17ce33a4"
      },
      "execution_count": null,
      "outputs": [
        {
          "output_type": "execute_result",
          "data": {
            "text/plain": [
              "array([13.5,  5. , 40. ])"
            ]
          },
          "metadata": {},
          "execution_count": 19
        }
      ]
    },
    {
      "cell_type": "markdown",
      "source": [
        "Explaination: The axis 1 run horizantally calculating the sum of values across that range in the matrix."
      ],
      "metadata": {
        "id": "OLQKWyu9gKjS"
      }
    },
    {
      "cell_type": "markdown",
      "source": [
        "Task 2"
      ],
      "metadata": {
        "id": "akttIn7qnxmL"
      }
    },
    {
      "cell_type": "code",
      "source": [
        "x= [1, 2]\n",
        "y= [4, -1]\n",
        "p= [ 4, -2]\n",
        "q= [6, -3]"
      ],
      "metadata": {
        "id": "QxavSgZwnwfi"
      },
      "execution_count": null,
      "outputs": []
    },
    {
      "cell_type": "code",
      "source": [
        "A= [ list(x), list(y)]\n",
        "A= np.array(A)\n",
        "B= [ list(p), list(q)]\n",
        "B= np.array(B)"
      ],
      "metadata": {
        "id": "iO_L5QrZn_W2"
      },
      "execution_count": null,
      "outputs": []
    },
    {
      "cell_type": "markdown",
      "source": [
        "a."
      ],
      "metadata": {
        "id": "xjFu_Drpov95"
      }
    },
    {
      "cell_type": "code",
      "source": [
        "C1= A+B\n",
        "C2= A-B"
      ],
      "metadata": {
        "id": "hv7Ib3yfoSVo"
      },
      "execution_count": null,
      "outputs": []
    },
    {
      "cell_type": "code",
      "source": [
        "C1"
      ],
      "metadata": {
        "colab": {
          "base_uri": "https://localhost:8080/"
        },
        "id": "orJmQatEo0mW",
        "outputId": "22b09733-0ea0-4b18-d1ca-eb4762a1e0c0"
      },
      "execution_count": null,
      "outputs": [
        {
          "output_type": "execute_result",
          "data": {
            "text/plain": [
              "array([[ 5,  0],\n",
              "       [10, -4]])"
            ]
          },
          "metadata": {},
          "execution_count": 23
        }
      ]
    },
    {
      "cell_type": "code",
      "source": [
        "C2"
      ],
      "metadata": {
        "colab": {
          "base_uri": "https://localhost:8080/"
        },
        "id": "fwH9lmnvo3yy",
        "outputId": "b21ec006-9ab3-4189-9995-8ec17bc09ce2"
      },
      "execution_count": null,
      "outputs": [
        {
          "output_type": "execute_result",
          "data": {
            "text/plain": [
              "array([[-3,  4],\n",
              "       [-2,  2]])"
            ]
          },
          "metadata": {},
          "execution_count": 24
        }
      ]
    },
    {
      "cell_type": "markdown",
      "source": [
        "Task Explanation: The matrix A and B are formed from the list of arrays and normal linear addition and subtration of matrix is possible through numpy library."
      ],
      "metadata": {
        "id": "3JnrYNXGgg3Y"
      }
    },
    {
      "cell_type": "markdown",
      "source": [
        "b."
      ],
      "metadata": {
        "id": "Vxy-ixLto5HP"
      }
    },
    {
      "cell_type": "code",
      "source": [
        "D1= A *B\n",
        "D2= B* A"
      ],
      "metadata": {
        "id": "4vLejUsso4Ta"
      },
      "execution_count": null,
      "outputs": []
    },
    {
      "cell_type": "code",
      "source": [
        "D1"
      ],
      "metadata": {
        "colab": {
          "base_uri": "https://localhost:8080/"
        },
        "id": "CCZRx5Q8o80i",
        "outputId": "22d6be7b-0bb1-482e-81c2-c9f5b3f84e4a"
      },
      "execution_count": null,
      "outputs": [
        {
          "output_type": "execute_result",
          "data": {
            "text/plain": [
              "array([[ 4, -4],\n",
              "       [24,  3]])"
            ]
          },
          "metadata": {},
          "execution_count": 26
        }
      ]
    },
    {
      "cell_type": "code",
      "source": [
        "D2"
      ],
      "metadata": {
        "colab": {
          "base_uri": "https://localhost:8080/"
        },
        "id": "--pQJKJjo-Gs",
        "outputId": "8bf1a49d-7422-4d04-942b-f9345a319021"
      },
      "execution_count": null,
      "outputs": [
        {
          "output_type": "execute_result",
          "data": {
            "text/plain": [
              "array([[ 4, -4],\n",
              "       [24,  3]])"
            ]
          },
          "metadata": {},
          "execution_count": 27
        }
      ]
    },
    {
      "cell_type": "markdown",
      "source": [
        "Task Explanation: The matrix A and B are formed from the list of arrays and normal linear multiplication of matrix is possible through numpy library."
      ],
      "metadata": {
        "id": "ACPEPzPkg5n8"
      }
    },
    {
      "cell_type": "markdown",
      "source": [
        "c."
      ],
      "metadata": {
        "id": "hup_Xb6GpC8i"
      }
    },
    {
      "cell_type": "code",
      "source": [
        "F = []\n",
        "for i in range(0, 2):\n",
        "    F.append([])\n",
        "    for j in range(0, 2):\n",
        "        f = B[i, j] + A[i, j] * (B[i, j]+0j) ** (1/4)\n",
        "        F[i].append(f)\n",
        "F = np.array(F)\n",
        "F"
      ],
      "metadata": {
        "colab": {
          "base_uri": "https://localhost:8080/"
        },
        "id": "R70JGdcQpBun",
        "outputId": "665eedce-e7f7-4e3d-d60f-fcfd51856774"
      },
      "execution_count": null,
      "outputs": [
        {
          "output_type": "execute_result",
          "data": {
            "text/plain": [
              "array([[ 5.41421356+0.j        , -0.31820717+1.68179283j],\n",
              "       [12.26033832+0.j        , -3.93060486-0.93060486j]])"
            ]
          },
          "metadata": {},
          "execution_count": 28
        }
      ]
    },
    {
      "cell_type": "code",
      "source": [
        "A[1]= A[1]- A[0]*4"
      ],
      "metadata": {
        "id": "mfDXXsHEqZe0"
      },
      "execution_count": null,
      "outputs": []
    },
    {
      "cell_type": "code",
      "source": [
        "A"
      ],
      "metadata": {
        "colab": {
          "base_uri": "https://localhost:8080/"
        },
        "id": "BVDp-b-XsHEZ",
        "outputId": "da50d72a-a612-4293-f288-26b2f004dd16"
      },
      "execution_count": null,
      "outputs": [
        {
          "output_type": "execute_result",
          "data": {
            "text/plain": [
              "array([[ 1,  2],\n",
              "       [ 0, -9]])"
            ]
          },
          "metadata": {},
          "execution_count": 51
        }
      ]
    },
    {
      "cell_type": "markdown",
      "source": [
        "To solve the give equations, the matrix was iterated across two loops i and j and 0j was added to enable complex number."
      ],
      "metadata": {
        "id": "eAZYd2S3jiRH"
      }
    },
    {
      "cell_type": "markdown",
      "source": [
        "Task 3"
      ],
      "metadata": {
        "id": "0UC7DIdRse7p"
      }
    },
    {
      "cell_type": "code",
      "source": [
        "import math\n",
        "from decimal import Decimal"
      ],
      "metadata": {
        "id": "NuFj5rYqtAem"
      },
      "execution_count": null,
      "outputs": []
    },
    {
      "cell_type": "code",
      "source": [
        "f=[]\n",
        "for i in range(0, 101):\n",
        "  a= (-1) ** i\n",
        "  b= math.pi ** (2*i)\n",
        "  c=Decimal(math.factorial( 2 * i))\n",
        "  ans= Decimal(a*b)\n",
        "  ans= ans/c\n",
        "  f.append(ans)\n",
        "\n",
        "f=np.array(f)\n",
        "f\n"
      ],
      "metadata": {
        "colab": {
          "base_uri": "https://localhost:8080/"
        },
        "id": "o-xfoONlsbwP",
        "outputId": "614ef103-f58d-4c80-a761-e48e2b9f31f1"
      },
      "execution_count": null,
      "outputs": [
        {
          "output_type": "execute_result",
          "data": {
            "text/plain": [
              "array([Decimal('1'), Decimal('-4.934802200544678996152470063'),\n",
              "       Decimal('4.058712126416767299967129172'),\n",
              "       Decimal('-1.335262768854589252340600878'),\n",
              "       Decimal('0.2353306303588931133697134635'),\n",
              "       Decimal('-0.02580689139001404928068944123'),\n",
              "       Decimal('0.001929574309403922032300155086'),\n",
              "       Decimal('-0.0001046381049248456569837686390'),\n",
              "       Decimal('0.000004303069587032944287027274497'),\n",
              "       Decimal('-1.387895246221376175232328291E-7'),\n",
              "       Decimal('3.604730797462498313623739767E-9'),\n",
              "       Decimal('-7.700707130601346323254428892E-11'),\n",
              "       Decimal('1.376864728037740056598676943E-12'),\n",
              "       Decimal('-2.090632335314766281733304059E-14'),\n",
              "       Decimal('2.729327261598192945302530442E-16'),\n",
              "       Decimal('-3.096250615296861173355800915E-18'),\n",
              "       Decimal('3.080521038267090205368468707E-20'),\n",
              "       Decimal('-2.709761497052516255171493619E-22'),\n",
              "       Decimal('2.122561428350158560628568572E-24'),\n",
              "       Decimal('-1.489960285549590230214276513E-26'),\n",
              "       Decimal('9.426486276736276462120247182E-29'),\n",
              "       Decimal('-5.402769479888780361836209496E-31'),\n",
              "       Decimal('2.818350815897545814531150062E-33'),\n",
              "       Decimal('-1.343768483883874500263612827E-35'),\n",
              "       Decimal('5.878751481642491222715272892E-38'),\n",
              "       Decimal('-2.368202101882829205557931661E-40'),\n",
              "       Decimal('8.813430575947149240740677926E-43'),\n",
              "       Decimal('-3.039310733789779672857998101E-45'),\n",
              "       Decimal('9.739219024184980104755717318E-48'),\n",
              "       Decimal('-2.907508739996045673476501611E-50'),\n",
              "       Decimal('8.106203688268573456519203543E-53'),\n",
              "       Decimal('-2.115415748224809329285935944E-55'),\n",
              "       Decimal('5.178153913396159558976494080E-58'),\n",
              "       Decimal('-1.191289758815217240908213370E-60'),\n",
              "       Decimal('2.580675734542437808891868222E-63'),\n",
              "       Decimal('-5.273343392841523515013128207E-66'),\n",
              "       Decimal('1.018110586041552843545386009E-68'),\n",
              "       Decimal('-1.860116386670006623962234364E-71'),\n",
              "       Decimal('3.220809276564338938635869316E-74'),\n",
              "       Decimal('-5.292726175665805693743607150E-77'),\n",
              "       Decimal('8.265366069163304239467117732E-80'),\n",
              "       Decimal('-1.228182675893236932888305428E-82'),\n",
              "       Decimal('1.738622653949741182064236543E-85'),\n",
              "       Decimal('-2.347403255438580699042473189E-88'),\n",
              "       Decimal('3.026115661051215134049517779E-91'),\n",
              "       Decimal('-3.728659731150624455713837160E-94'),\n",
              "       Decimal('4.395651754984336555853515929E-97'),\n",
              "       Decimal('-4.962633711581968438387592752E-100'),\n",
              "       Decimal('5.370529772020154409314663404E-103'),\n",
              "       Decimal('-5.575952479919161115499663187E-106'),\n",
              "       Decimal('5.558832842027804422314076048E-109'),\n",
              "       Decimal('-5.325517480353104872314009211E-112'),\n",
              "       Decimal('4.906716837394633109974715684E-115'),\n",
              "       Decimal('-4.351065057794189244452862373E-118'),\n",
              "       Decimal('3.716103395970201916883661927E-121'),\n",
              "       Decimal('-3.058921637345338832947932156E-124'),\n",
              "       Decimal('2.428438421374760455082530883E-127'),\n",
              "       Decimal('-1.860559426438039668985071787E-130'),\n",
              "       Decimal('1.376535644952111595294216398E-133'),\n",
              "       Decimal('-9.840549224739777962713925005E-137'),\n",
              "       Decimal('6.801283469021580888610874046E-140'),\n",
              "       Decimal('-4.547214283898638435276566925E-143'),\n",
              "       Decimal('2.942512857924363439281118233E-146'),\n",
              "       Decimal('-1.843900816052845837783494786E-149'),\n",
              "       Decimal('1.119498745650063078989244551E-152'),\n",
              "       Decimal('-6.588556796113225509339133019E-156'),\n",
              "       Decimal('3.760493242640890833324830982E-159'),\n",
              "       Decimal('-2.082514906174129147746509141E-162'),\n",
              "       Decimal('1.119477030681392915192221659E-165'),\n",
              "       Decimal('-5.844068247610029327217614294E-169'),\n",
              "       Decimal('2.963958977229112170479861511E-172'),\n",
              "       Decimal('-1.461047975542341283518185499E-175'),\n",
              "       Decimal('7.002702763022235771212476351E-179'),\n",
              "       Decimal('-3.264709778433862186297060240E-182'),\n",
              "       Decimal('1.481034840848975487369168318E-185'),\n",
              "       Decimal('-6.540146748729183316158159005E-189'),\n",
              "       Decimal('2.812332743770817499825561662E-192'),\n",
              "       Decimal('-1.178024430237168720077023761E-195'),\n",
              "       Decimal('4.808368528229753030650405662E-199'),\n",
              "       Decimal('-1.913113568825120191686320995E-202'),\n",
              "       Decimal('7.422041705448180749788762275E-206'),\n",
              "       Decimal('-2.808550551382567918453525878E-209'),\n",
              "       Decimal('1.036932623171006079251257994E-212'),\n",
              "       Decimal('-3.736442052311681102310332603E-216'),\n",
              "       Decimal('1.314414204587636218866450338E-219'),\n",
              "       Decimal('-4.515401398695614650263385321E-223'),\n",
              "       Decimal('1.515205545942176021210275348E-226'),\n",
              "       Decimal('-4.967935461027806439502955860E-230'),\n",
              "       Decimal('1.591933691249607976630473966E-233'),\n",
              "       Decimal('-4.986909085697822478826560803E-237'),\n",
              "       Decimal('1.527585967102288525931168414E-240'),\n",
              "       Decimal('-4.576731583982480684284944694E-244'),\n",
              "       Decimal('1.341486403655208015472912107E-247'),\n",
              "       Decimal('-3.847701282626264191760851402E-251'),\n",
              "       Decimal('1.080193694194030728408557752E-254'),\n",
              "       Decimal('-2.968834430032408004182340327E-258'),\n",
              "       Decimal('7.990079994751710537367774479E-262'),\n",
              "       Decimal('-2.106162295851116521101366890E-265'),\n",
              "       Decimal('5.438772544359143679838990708E-269'),\n",
              "       Decimal('-1.376160935249217323684264762E-272'),\n",
              "       Decimal('3.412604025915307227125056437E-276')], dtype=object)"
            ]
          },
          "metadata": {},
          "execution_count": 59
        }
      ]
    },
    {
      "cell_type": "code",
      "source": [
        "f.sum()"
      ],
      "metadata": {
        "colab": {
          "base_uri": "https://localhost:8080/"
        },
        "id": "ZiDHTIv3tdOu",
        "outputId": "1cd70f26-19a6-484c-99b4-c31a7644b14d"
      },
      "execution_count": null,
      "outputs": [
        {
          "output_type": "execute_result",
          "data": {
            "text/plain": [
              "Decimal('-1.000000000000000442826750528')"
            ]
          },
          "metadata": {},
          "execution_count": 62
        }
      ]
    },
    {
      "cell_type": "markdown",
      "source": [
        "Task Explanation: The given equations was written accordingly. To enable irrational number such as pi, math library was imported. To ensure avoiding float number in the denominator, the numerator and the denominator of the equations were converted to Decimal."
      ],
      "metadata": {
        "id": "0OxjIGVclD6A"
      }
    },
    {
      "cell_type": "markdown",
      "source": [
        "Task 4"
      ],
      "metadata": {
        "id": "Llq1T327uU4n"
      }
    },
    {
      "cell_type": "code",
      "source": [
        "x=np.array([7, 6, 1, 2, 0, -1, 4, 3, -2, 0])"
      ],
      "metadata": {
        "id": "UXras0szt7ys"
      },
      "execution_count": null,
      "outputs": []
    },
    {
      "cell_type": "markdown",
      "source": [
        "a."
      ],
      "metadata": {
        "id": "LV2bISN0urNX"
      }
    },
    {
      "cell_type": "code",
      "source": [
        "for i in range(0,10):\n",
        "  if x[i] <0:\n",
        "    x[i]=0\n"
      ],
      "metadata": {
        "id": "URzDCtgcudYH"
      },
      "execution_count": null,
      "outputs": []
    },
    {
      "cell_type": "code",
      "source": [
        "x"
      ],
      "metadata": {
        "colab": {
          "base_uri": "https://localhost:8080/"
        },
        "id": "2p6X7Utwu0vg",
        "outputId": "a5e09afc-17c8-4167-c980-35aca73441e7"
      },
      "execution_count": null,
      "outputs": [
        {
          "output_type": "execute_result",
          "data": {
            "text/plain": [
              "array([7, 6, 1, 2, 0, 0, 4, 3, 0, 0])"
            ]
          },
          "metadata": {},
          "execution_count": 70
        }
      ]
    },
    {
      "cell_type": "markdown",
      "source": [
        "Task explanation: Iterating through the loop, the values less than zero were updated."
      ],
      "metadata": {
        "id": "yMYW3x_9mBEf"
      }
    },
    {
      "cell_type": "markdown",
      "source": [
        "b."
      ],
      "metadata": {
        "id": "Ywe5rWO2vDBI"
      }
    },
    {
      "cell_type": "code",
      "source": [
        "y=[]\n",
        "for i in range(0,10):\n",
        "  if x[i] >3:\n",
        "    y.append(x[i])\n",
        "\n",
        "y\n"
      ],
      "metadata": {
        "colab": {
          "base_uri": "https://localhost:8080/"
        },
        "id": "MYvHHAFyu-cU",
        "outputId": "854fda49-a2c6-4472-8dd2-08dbfe20033b"
      },
      "execution_count": null,
      "outputs": [
        {
          "output_type": "execute_result",
          "data": {
            "text/plain": [
              "[7, 6, 4]"
            ]
          },
          "metadata": {},
          "execution_count": 71
        }
      ]
    },
    {
      "cell_type": "markdown",
      "source": [
        "Task explanation: Iterating through the loop, the values greater than 3 were updated and added to a new vector y."
      ],
      "metadata": {
        "id": "Vs8HIn9fmG3g"
      }
    },
    {
      "cell_type": "markdown",
      "source": [
        "c"
      ],
      "metadata": {
        "id": "09m4Wjd8vQuV"
      }
    },
    {
      "cell_type": "code",
      "source": [
        "for i in range(0,10):\n",
        "  if x[i] %2==0:\n",
        "    x[i]= x[i]+3\n",
        "\n",
        "x"
      ],
      "metadata": {
        "colab": {
          "base_uri": "https://localhost:8080/"
        },
        "id": "vzNdy5javNJT",
        "outputId": "60c169ab-c24e-404c-ed2b-3e5f82793212"
      },
      "execution_count": null,
      "outputs": [
        {
          "output_type": "execute_result",
          "data": {
            "text/plain": [
              "array([7, 9, 1, 5, 3, 3, 7, 3, 3, 3])"
            ]
          },
          "metadata": {},
          "execution_count": 72
        }
      ]
    },
    {
      "cell_type": "markdown",
      "source": [
        "Task explanation: Iterating through the loop, the values of even were updated."
      ],
      "metadata": {
        "id": "0RL3USBemMpQ"
      }
    },
    {
      "cell_type": "markdown",
      "source": [
        "d"
      ],
      "metadata": {
        "id": "9EpfmKvMvlbg"
      }
    },
    {
      "cell_type": "code",
      "source": [
        "a= x.mean()"
      ],
      "metadata": {
        "id": "ZE_qxN6hvklP"
      },
      "execution_count": null,
      "outputs": []
    },
    {
      "cell_type": "code",
      "source": [
        "for i in range(0,10):\n",
        "  if x[i] < a:\n",
        "    x[i]= 0\n",
        "\n",
        "x\n"
      ],
      "metadata": {
        "colab": {
          "base_uri": "https://localhost:8080/"
        },
        "id": "rJJSCh-qvjHL",
        "outputId": "9274941d-9aa6-4fca-949e-f7b13591731a"
      },
      "execution_count": null,
      "outputs": [
        {
          "output_type": "execute_result",
          "data": {
            "text/plain": [
              "array([7, 9, 0, 5, 0, 0, 7, 0, 0, 0])"
            ]
          },
          "metadata": {},
          "execution_count": 74
        }
      ]
    },
    {
      "cell_type": "markdown",
      "source": [
        "Task explanation: Mean was calculated and iterating through the loop, the values less than mean were updated."
      ],
      "metadata": {
        "id": "t9y5xzrlmQVM"
      }
    },
    {
      "cell_type": "markdown",
      "source": [
        "e"
      ],
      "metadata": {
        "id": "SLrPygqOv0BN"
      }
    },
    {
      "cell_type": "code",
      "source": [
        "for i in range(0,10):\n",
        "  if x[i] > a:\n",
        "    x[i]= x[i]-a\n",
        "\n",
        "x\n"
      ],
      "metadata": {
        "colab": {
          "base_uri": "https://localhost:8080/"
        },
        "id": "11ZUl6KJvwep",
        "outputId": "7c6c5c53-02fd-481c-fb15-80cae6032e69"
      },
      "execution_count": null,
      "outputs": [
        {
          "output_type": "execute_result",
          "data": {
            "text/plain": [
              "array([2, 4, 0, 0, 0, 0, 2, 0, 0, 0])"
            ]
          },
          "metadata": {},
          "execution_count": 75
        }
      ]
    },
    {
      "cell_type": "markdown",
      "source": [
        "Task explanation: Mean was calculated and iterating through the loop, the values greater than mean were updated."
      ],
      "metadata": {
        "id": "1h_TPQEQmWDM"
      }
    },
    {
      "cell_type": "markdown",
      "source": [
        "Task 5"
      ],
      "metadata": {
        "id": "N0Uk9Bm7wA_X"
      }
    },
    {
      "cell_type": "code",
      "source": [
        "import matplotlib.pyplot as plt"
      ],
      "metadata": {
        "id": "4_lj9aptwr0A"
      },
      "execution_count": null,
      "outputs": []
    },
    {
      "cell_type": "code",
      "source": [
        "x = np.linspace(0, 5, 100)"
      ],
      "metadata": {
        "id": "ruQtPVR2wAGG"
      },
      "execution_count": null,
      "outputs": []
    },
    {
      "cell_type": "code",
      "source": [
        "def plotfunction(x,y):\n",
        "  fig= plt.figure()\n",
        "  plt.xlabel('x - axis')\n",
        "  # naming the y axis\n",
        "  plt.ylabel('y - axis')\n",
        "  plt.plot(x, y)\n",
        "  plt.show()\n"
      ],
      "metadata": {
        "id": "RYZ4x6YZwPXA"
      },
      "execution_count": null,
      "outputs": []
    },
    {
      "cell_type": "code",
      "source": [
        "y=x\n",
        "plotfunction( x, y)"
      ],
      "metadata": {
        "colab": {
          "base_uri": "https://localhost:8080/",
          "height": 279
        },
        "id": "1NNlFincw5Q6",
        "outputId": "191a4d2c-10b7-47f0-9384-64f765d0968d"
      },
      "execution_count": null,
      "outputs": [
        {
          "output_type": "display_data",
          "data": {
            "text/plain": [
              "<Figure size 432x288 with 1 Axes>"
            ],
            "image/png": "[encoded data removed]"
          },
          "metadata": {
            "needs_background": "light"
          }
        }
      ]
    },
    {
      "cell_type": "code",
      "source": [
        "y= x* x* x\n",
        "plotfunction( x, y)"
      ],
      "metadata": {
        "colab": {
          "base_uri": "https://localhost:8080/",
          "height": 279
        },
        "id": "Qv4PKX2Rw9Ma",
        "outputId": "b008fa69-6e27-4af7-c32c-2c0f441560ba"
      },
      "execution_count": null,
      "outputs": [
        {
          "output_type": "display_data",
          "data": {
            "text/plain": [
              "<Figure size 432x288 with 1 Axes>"
            ],
            "image/png": "[encoded data removed]"
          },
          "metadata": {
            "needs_background": "light"
          }
        }
      ]
    },
    {
      "cell_type": "code",
      "source": [
        "y = np.exp(x)\n",
        "plotfunction( x, y)\n"
      ],
      "metadata": {
        "colab": {
          "base_uri": "https://localhost:8080/",
          "height": 279
        },
        "id": "Vtmql5kNxB4N",
        "outputId": "616a724b-8886-4602-e9f2-e559bd6473d9"
      },
      "execution_count": null,
      "outputs": [
        {
          "output_type": "display_data",
          "data": {
            "text/plain": [
              "<Figure size 432x288 with 1 Axes>"
            ],
            "image/png": "[encoded data removed]"
          },
          "metadata": {
            "needs_background": "light"
          }
        }
      ]
    },
    {
      "cell_type": "code",
      "source": [
        "y = np.exp(x * x)\n",
        "plotfunction( x, y)"
      ],
      "metadata": {
        "colab": {
          "base_uri": "https://localhost:8080/",
          "height": 290
        },
        "id": "garIinvexJpx",
        "outputId": "98d51562-436f-4bdc-d621-17a23d4d05e4"
      },
      "execution_count": null,
      "outputs": [
        {
          "output_type": "display_data",
          "data": {
            "text/plain": [
              "<Figure size 432x288 with 1 Axes>"
            ],
            "image/png": "[encoded data removed]"
          },
          "metadata": {
            "needs_background": "light"
          }
        }
      ]
    },
    {
      "cell_type": "markdown",
      "source": [
        "Task explanation: A function was called to plot points in the graph based on values of x and y. The name of the axis were also given in the plot function. And then the relations y=x^2, y=x and so on were placed to the plotfunction to plot the graph."
      ],
      "metadata": {
        "id": "brim0Cq8mbrh"
      }
    },
    {
      "cell_type": "markdown",
      "source": [
        "Task 6:"
      ],
      "metadata": {
        "id": "h_wm5iogxRpb"
      }
    },
    {
      "cell_type": "code",
      "source": [
        "x= np.linspace( -10, 10 , 100)\n",
        "A=10"
      ],
      "metadata": {
        "id": "uejCdKtWxMfa"
      },
      "execution_count": null,
      "outputs": []
    },
    {
      "cell_type": "code",
      "source": [
        "pivalue=math.pi\n"
      ],
      "metadata": {
        "id": "QHqvIQJfxaP3"
      },
      "execution_count": null,
      "outputs": []
    },
    {
      "cell_type": "code",
      "source": [
        "b= (pivalue/6)* x + (pivalue/3)"
      ],
      "metadata": {
        "id": "uizXK0zmx1J_"
      },
      "execution_count": null,
      "outputs": []
    },
    {
      "cell_type": "code",
      "source": [
        "y= A* np.cos(b)"
      ],
      "metadata": {
        "id": "A4oNvKwkx-1e"
      },
      "execution_count": null,
      "outputs": []
    },
    {
      "cell_type": "code",
      "source": [
        "plotfunction(x,y)"
      ],
      "metadata": {
        "colab": {
          "base_uri": "https://localhost:8080/",
          "height": 279
        },
        "id": "rSuZybY7yE6R",
        "outputId": "2c3ca6cc-2b21-4ae4-891e-355619afd8b0"
      },
      "execution_count": null,
      "outputs": [
        {
          "output_type": "display_data",
          "data": {
            "text/plain": [
              "<Figure size 432x288 with 1 Axes>"
            ],
            "image/png": "[encoded data removed]"
          },
          "metadata": {
            "needs_background": "light"
          }
        }
      ]
    },
    {
      "cell_type": "markdown",
      "source": [
        "Task explanation: It is similar to the previous tasks. The cos functions were developed using the built in python math libraries and corresponding graph for x and y values was plot."
      ],
      "metadata": {
        "id": "KqXAIb5Rmvj4"
      }
    },
    {
      "cell_type": "markdown",
      "source": [
        "Task 7"
      ],
      "metadata": {
        "id": "7604EBB1yK9A"
      }
    },
    {
      "cell_type": "code",
      "source": [
        "def pltfunction(x,y, steps):\n",
        "  t= np.linspace(x, y, steps)\n",
        "  y = 197273000/(1 + np.exp(-0.0313*(t-1913.26)))\n",
        "  plotfunction(t,y)"
      ],
      "metadata": {
        "id": "vwZygQQryGP_"
      },
      "execution_count": null,
      "outputs": []
    },
    {
      "cell_type": "code",
      "source": [
        "pltfunction(1810, 2013, 100)"
      ],
      "metadata": {
        "colab": {
          "base_uri": "https://localhost:8080/",
          "height": 290
        },
        "id": "GRL-5G42y3f_",
        "outputId": "1fc9470f-6af5-415e-926f-95f0648d55ec"
      },
      "execution_count": null,
      "outputs": [
        {
          "output_type": "display_data",
          "data": {
            "text/plain": [
              "<Figure size 432x288 with 1 Axes>"
            ],
            "image/png": "[encoded data removed]"
          },
          "metadata": {
            "needs_background": "light"
          }
        }
      ]
    },
    {
      "cell_type": "code",
      "source": [
        "t= 2021\n",
        "y = 197273000/(1 + np.exp(-0.0313*(t-1913.26)))\n",
        "y"
      ],
      "metadata": {
        "colab": {
          "base_uri": "https://localhost:8080/"
        },
        "id": "ssvQ2JHMy-LF",
        "outputId": "99b8c861-ee66-4d84-dd39-32ddcb10b2c8"
      },
      "execution_count": null,
      "outputs": [
        {
          "output_type": "execute_result",
          "data": {
            "text/plain": [
              "190728728.107411"
            ]
          },
          "metadata": {},
          "execution_count": 96
        }
      ]
    },
    {
      "cell_type": "markdown",
      "source": [
        "Task explanation: It is quite similar to the last task, but instead a range is put for the x values. Linspace function is called to put difference in steps between certain range. Putting the value of y, we can understand the prediction value based on t=2021"
      ],
      "metadata": {
        "id": "iz5fM7swpMgP"
      }
    },
    {
      "cell_type": "markdown",
      "source": [
        "Task 8"
      ],
      "metadata": {
        "id": "5mweIhH5zMN6"
      }
    },
    {
      "cell_type": "code",
      "source": [
        "d1 = np.diag([-2 for i in range(16)])\n"
      ],
      "metadata": {
        "id": "FBLd1Pz5zJbt"
      },
      "execution_count": null,
      "outputs": []
    },
    {
      "cell_type": "code",
      "source": [
        "d2 = np.diag([1 for i in range(15)], k=1)\n"
      ],
      "metadata": {
        "id": "Vc1q9QtW0Az_"
      },
      "execution_count": null,
      "outputs": []
    },
    {
      "cell_type": "code",
      "source": [
        "d3 = np.diag([1 for i in range(15)], k=-1)\n"
      ],
      "metadata": {
        "id": "7qt2fNfJ0FAH"
      },
      "execution_count": null,
      "outputs": []
    },
    {
      "cell_type": "code",
      "source": [
        "matrix= d1+ d2+ d3"
      ],
      "metadata": {
        "id": "8e1ipCJL0H_w"
      },
      "execution_count": null,
      "outputs": []
    },
    {
      "cell_type": "code",
      "source": [
        "matrix= np.array(matrix)\n",
        "matrix[0][15]=1\n",
        "matrix[15][0]=1"
      ],
      "metadata": {
        "id": "YkD9Kqhu0K17"
      },
      "execution_count": null,
      "outputs": []
    },
    {
      "cell_type": "code",
      "source": [
        "matrix"
      ],
      "metadata": {
        "colab": {
          "base_uri": "https://localhost:8080/"
        },
        "id": "ktGGgjZh0Odx",
        "outputId": "01b66254-5037-4993-fd87-1c13f79f21eb"
      },
      "execution_count": null,
      "outputs": [
        {
          "output_type": "execute_result",
          "data": {
            "text/plain": [
              "array([[-2,  1,  0,  0,  0,  0,  0,  0,  0,  0,  0,  0,  0,  0,  0,  1],\n",
              "       [ 1, -2,  1,  0,  0,  0,  0,  0,  0,  0,  0,  0,  0,  0,  0,  0],\n",
              "       [ 0,  1, -2,  1,  0,  0,  0,  0,  0,  0,  0,  0,  0,  0,  0,  0],\n",
              "       [ 0,  0,  1, -2,  1,  0,  0,  0,  0,  0,  0,  0,  0,  0,  0,  0],\n",
              "       [ 0,  0,  0,  1, -2,  1,  0,  0,  0,  0,  0,  0,  0,  0,  0,  0],\n",
              "       [ 0,  0,  0,  0,  1, -2,  1,  0,  0,  0,  0,  0,  0,  0,  0,  0],\n",
              "       [ 0,  0,  0,  0,  0,  1, -2,  1,  0,  0,  0,  0,  0,  0,  0,  0],\n",
              "       [ 0,  0,  0,  0,  0,  0,  1, -2,  1,  0,  0,  0,  0,  0,  0,  0],\n",
              "       [ 0,  0,  0,  0,  0,  0,  0,  1, -2,  1,  0,  0,  0,  0,  0,  0],\n",
              "       [ 0,  0,  0,  0,  0,  0,  0,  0,  1, -2,  1,  0,  0,  0,  0,  0],\n",
              "       [ 0,  0,  0,  0,  0,  0,  0,  0,  0,  1, -2,  1,  0,  0,  0,  0],\n",
              "       [ 0,  0,  0,  0,  0,  0,  0,  0,  0,  0,  1, -2,  1,  0,  0,  0],\n",
              "       [ 0,  0,  0,  0,  0,  0,  0,  0,  0,  0,  0,  1, -2,  1,  0,  0],\n",
              "       [ 0,  0,  0,  0,  0,  0,  0,  0,  0,  0,  0,  0,  1, -2,  1,  0],\n",
              "       [ 0,  0,  0,  0,  0,  0,  0,  0,  0,  0,  0,  0,  0,  1, -2,  1],\n",
              "       [ 1,  0,  0,  0,  0,  0,  0,  0,  0,  0,  0,  0,  0,  0,  1, -2]])"
            ]
          },
          "metadata": {},
          "execution_count": 105
        }
      ]
    },
    {
      "cell_type": "markdown",
      "source": [
        "Task Explanation: Using the diag function, the diagonals were created. Afterwards, they were joined to eventually form the matrix. In the question the corner values were 1 so the matrix values were updated accordingly."
      ],
      "metadata": {
        "id": "1WiSrFyWrIwr"
      }
    }
  ]
}