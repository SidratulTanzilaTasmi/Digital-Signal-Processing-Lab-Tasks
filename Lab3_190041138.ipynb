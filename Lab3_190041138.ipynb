{
  "nbformat": 4,
  "nbformat_minor": 0,
  "metadata": {
    "colab": {
      "provenance": []
    },
    "kernelspec": {
      "name": "python3",
      "display_name": "Python 3"
    },
    "language_info": {
      "name": "python"
    }
  },
  "cells": [
    {
      "cell_type": "markdown",
      "source": [
        "**Sidratul Tanzila Tasmi\n",
        "<br>190041138**"
      ],
      "metadata": {
        "id": "Gj3Ml0A1oz76"
      }
    },
    {
      "cell_type": "markdown",
      "source": [
        "#Task 1"
      ],
      "metadata": {
        "id": "033GtgwlsMq1"
      }
    },
    {
      "cell_type": "markdown",
      "source": [
        "Initially necessary libraries were imported so we can complete all the lab tasks. There are two signals used in the lab, which are S(the input signal) and H(impulse response). The H is necessary to understand how the system will react when an input S will be put into the system, whichh is the essence of Convolution."
      ],
      "metadata": {
        "id": "JH049xlj3joG"
      }
    },
    {
      "cell_type": "code",
      "execution_count": null,
      "metadata": {
        "id": "RT1ELLaNofvj"
      },
      "outputs": [],
      "source": [
        "import numpy as nm\n",
        "import pandas as pd\n",
        "import seaborn as sns\n",
        "import matplotlib.pyplot as plt"
      ]
    },
    {
      "cell_type": "code",
      "source": [
        "S= [ 1,9,0,0,4,1,1,3,8]\n",
        "H= [2,0,2,3]"
      ],
      "metadata": {
        "id": "y3JV8xm1pQLT"
      },
      "execution_count": null,
      "outputs": []
    },
    {
      "cell_type": "code",
      "source": [
        "def output(n, signal, ll):\n",
        "  plt.stem(n, signal, label=ll)\n",
        "  plt.title(ll)\n",
        "  plt.show()"
      ],
      "metadata": {
        "id": "XiiwKD_DpV7j"
      },
      "execution_count": null,
      "outputs": []
    },
    {
      "cell_type": "markdown",
      "source": [
        "A user defined output function is made here so we can call it plotting the input signal, output signal due to convolution as well as the impulse response."
      ],
      "metadata": {
        "id": "sUTgvRxv4UOh"
      }
    },
    {
      "cell_type": "code",
      "source": [
        "convolve=nm.convolve(S,H, 'full')"
      ],
      "metadata": {
        "id": "z6iYChSlqzUj"
      },
      "execution_count": null,
      "outputs": []
    },
    {
      "cell_type": "markdown",
      "source": [
        "This is the built in function for taking convolution. The mode here is taken 'full' which is the default mode for convolution under the numpy. It returns the convolution at each point of the overlap with the total length of (S+H-1) which would also be used for plotting the input and output side of the algorithm."
      ],
      "metadata": {
        "id": "8_eTcitC4e9L"
      }
    },
    {
      "cell_type": "code",
      "source": [
        "convolve"
      ],
      "metadata": {
        "colab": {
          "base_uri": "https://localhost:8080/"
        },
        "id": "wdeWQwHqq4TJ",
        "outputId": "2437e46a-49b4-499f-874e-ff69e195213b"
      },
      "execution_count": null,
      "outputs": [
        {
          "output_type": "execute_result",
          "data": {
            "text/plain": [
              "array([ 2, 18,  2, 21, 35,  2, 10, 20, 21,  9, 25, 24])"
            ]
          },
          "metadata": {},
          "execution_count": 5
        }
      ]
    },
    {
      "cell_type": "code",
      "source": [
        "n1=nm.arange(0, len(convolve),1)\n",
        "n2=nm.arange(0, len(S),1)\n",
        "n3=nm.arange(0, len(H),1)"
      ],
      "metadata": {
        "id": "aNGry-ugq_QG"
      },
      "execution_count": null,
      "outputs": []
    },
    {
      "cell_type": "code",
      "source": [
        "output(n1, convolve,'Convolved Signal')\n",
        "output(n2, S, 'Input Signal')\n",
        "output(n3, H, 'Output Signal')"
      ],
      "metadata": {
        "colab": {
          "base_uri": "https://localhost:8080/",
          "height": 933
        },
        "id": "CYYIXFqVrM82",
        "outputId": "2823051d-2b96-4fdd-8414-125bbafc2189"
      },
      "execution_count": null,
      "outputs": [
        {
          "output_type": "stream",
          "name": "stderr",
          "text": [
            "<ipython-input-3-be7a03d63f1a>:2: UserWarning: In Matplotlib 3.3 individual lines on a stem plot will be added as a LineCollection instead of individual lines. This significantly improves the performance of a stem plot. To remove this warning and switch to the new behaviour, set the \"use_line_collection\" keyword argument to True.\n",
            "  plt.stem(n, signal, label=ll)\n"
          ]
        },
        {
          "output_type": "display_data",
          "data": {
            "text/plain": [
              "<Figure size 432x288 with 1 Axes>"
            ],
            "image/png": "[encoded data removed]"
          },
          "metadata": {
            "needs_background": "light"
          }
        },
        {
          "output_type": "stream",
          "name": "stderr",
          "text": [
            "<ipython-input-3-be7a03d63f1a>:2: UserWarning: In Matplotlib 3.3 individual lines on a stem plot will be added as a LineCollection instead of individual lines. This significantly improves the performance of a stem plot. To remove this warning and switch to the new behaviour, set the \"use_line_collection\" keyword argument to True.\n",
            "  plt.stem(n, signal, label=ll)\n"
          ]
        },
        {
          "output_type": "display_data",
          "data": {
            "text/plain": [
              "<Figure size 432x288 with 1 Axes>"
            ],
            "image/png": "[encoded data removed]"
          },
          "metadata": {
            "needs_background": "light"
          }
        },
        {
          "output_type": "stream",
          "name": "stderr",
          "text": [
            "<ipython-input-3-be7a03d63f1a>:2: UserWarning: In Matplotlib 3.3 individual lines on a stem plot will be added as a LineCollection instead of individual lines. This significantly improves the performance of a stem plot. To remove this warning and switch to the new behaviour, set the \"use_line_collection\" keyword argument to True.\n",
            "  plt.stem(n, signal, label=ll)\n"
          ]
        },
        {
          "output_type": "display_data",
          "data": {
            "text/plain": [
              "<Figure size 432x288 with 1 Axes>"
            ],
            "image/png": "[encoded data removed]"
          },
          "metadata": {
            "needs_background": "light"
          }
        }
      ]
    },
    {
      "cell_type": "markdown",
      "source": [
        "#Task 2"
      ],
      "metadata": {
        "id": "KA7cYTNasOvQ"
      }
    },
    {
      "cell_type": "markdown",
      "source": [
        "Input Side Algorithm"
      ],
      "metadata": {
        "id": "NBavxSOgDgnD"
      }
    },
    {
      "cell_type": "markdown",
      "source": [
        "Task Explanation:This is the input side algorithm for the convolution. The input side algorithm produce (S+H-1) number of outpit signals which is stored in len3 variable. It decomposes the input, pass the component to the system and synthesizes the output. In the double loop, we have iterated each samples in the impulse response and multiplied with all the samples of the input. The position of the index where it would be multiplied was also considered. Then all the multiplied products in the same index was added. NB: Index values were iterated through len3, which is for each output samples."
      ],
      "metadata": {
        "id": "VqU8Mfbo45-_"
      }
    },
    {
      "cell_type": "code",
      "source": [
        "def InputSideAlgorithm(S,H):\n",
        "  len1=len(S)\n",
        "  len2=len(H)\n",
        "  len3=len1+len2-1\n",
        "  result=nm.zeros(len3)\n",
        "  for i in range(len2):\n",
        "    for j in range(len1):\n",
        "      result[i+j]+=H[i]*S[j]\n",
        "\n",
        "  return result\n",
        "\n"
      ],
      "metadata": {
        "id": "bxMoc79CsRqQ"
      },
      "execution_count": null,
      "outputs": []
    },
    {
      "cell_type": "code",
      "source": [
        "InputSideAlgorithm(S,H)"
      ],
      "metadata": {
        "colab": {
          "base_uri": "https://localhost:8080/"
        },
        "id": "GiEcCC0LDyQL",
        "outputId": "faa8b8c7-1ac5-4956-be2c-da94e0f7b192"
      },
      "execution_count": null,
      "outputs": [
        {
          "output_type": "execute_result",
          "data": {
            "text/plain": [
              "array([ 2., 18.,  2., 21., 35.,  2., 10., 20., 21.,  9., 25., 24.])"
            ]
          },
          "metadata": {},
          "execution_count": 9
        }
      ]
    },
    {
      "cell_type": "markdown",
      "source": [
        "#Task 3"
      ],
      "metadata": {
        "id": "6SpQTB-WHpir"
      }
    },
    {
      "cell_type": "markdown",
      "source": [
        "Output Side Algorithm"
      ],
      "metadata": {
        "id": "9VULWHvt5p2h"
      }
    },
    {
      "cell_type": "markdown",
      "source": [
        "Task Explanation: In this algorithm, instead of looping through the impulse and input and filling the output array, we have iterated through the output array and fill it in. Here the impulse response are flipped and then we have performed cumulative sum operation for each index with the input array.The if condition is placed so that our index dont go out of bound for the output array(result)."
      ],
      "metadata": {
        "id": "6dLzkYWP5rg7"
      }
    },
    {
      "cell_type": "code",
      "source": [
        "def Outputsidealgorithm(S,H):\n",
        "  len1=len(S)\n",
        "  len2=len(H)\n",
        "  len3=len1+len2-1\n",
        "  result=nm.zeros(len3)\n",
        "  for i in range(0,len3):\n",
        "    for j in range(0,len2):\n",
        "      if(i-j>=0) and (i-j<len1):\n",
        "        result[i]+=(S[i-j]* H[j])\n",
        "\n",
        "  return result\n",
        "\n",
        "Outputsidealgorithm(S,H)\n",
        ""
      ],
      "metadata": {
        "id": "UAcTNvqkHRXD",
        "colab": {
          "base_uri": "https://localhost:8080/"
        },
        "outputId": "cb00b67e-1aa9-4569-d1b9-4bb30f065f5e"
      },
      "execution_count": null,
      "outputs": [
        {
          "output_type": "execute_result",
          "data": {
            "text/plain": [
              "array([ 2., 18.,  2., 21., 35.,  2., 10., 20., 21.,  9., 25., 24.])"
            ]
          },
          "metadata": {},
          "execution_count": 18
        }
      ]
    },
    {
      "cell_type": "markdown",
      "source": [
        "#Task 4"
      ],
      "metadata": {
        "id": "hO3qM8kSze9U"
      }
    },
    {
      "cell_type": "markdown",
      "source": [
        "The input side algorithm, output side and the built in convolve function of the numpy have given the same output, so my algorithm works correctly."
      ],
      "metadata": {
        "id": "ii-P6-w16lqG"
      }
    },
    {
      "cell_type": "code",
      "source": [
        "print(f'Using Built in np.convole: {nm.convolve(S,H,\"full\")}')\n",
        "print(f'Using Built in np.convole: {InputSideAlgorithm(S,H)}')\n",
        "print(f'Using Built in np.convole: {Outputsidealgorithm(S,H)}')"
      ],
      "metadata": {
        "colab": {
          "base_uri": "https://localhost:8080/"
        },
        "id": "ZcaQd6Dxsxtf",
        "outputId": "f26d8e47-a4a8-49e8-9231-544c0335cfa2"
      },
      "execution_count": null,
      "outputs": [
        {
          "output_type": "stream",
          "name": "stdout",
          "text": [
            "Using Built in np.convole: [ 2 18  2 21 35  2 10 20 21  9 25 24]\n",
            "Using Built in np.convole: [ 2. 18.  2. 21. 35.  2. 10. 20. 21.  9. 25. 24.]\n",
            "Using Built in np.convole: [ 2. 18.  2. 21. 35.  2. 10. 20. 21.  9. 25. 24.]\n"
          ]
        }
      ]
    },
    {
      "cell_type": "markdown",
      "source": [
        "#Task 5"
      ],
      "metadata": {
        "id": "Jz1aGzZF0fZy"
      }
    },
    {
      "cell_type": "markdown",
      "source": [
        "Task Explanation:\n",
        "Initially as instructed, we have constructed the two waves, wave and ramp. Then using the convolve function, the combination of the two signals were considered. After that we put the newly formed signal into the low pass filter function. A low pass filter only allow the lower frequency signals to be taken and not the higher frequency ones. So, if we pass it to the low pass signal, it only accepts the ramp signal and shows it as output."
      ],
      "metadata": {
        "id": "WRkKLtoi64vl"
      }
    },
    {
      "cell_type": "code",
      "source": [
        "t=nm.linspace(0,5,100)\n",
        "wave= 0.1 * nm.sin(2*nm.pi*t)\n",
        "plt.stem(wave)"
      ],
      "metadata": {
        "colab": {
          "base_uri": "https://localhost:8080/",
          "height": 337
        },
        "id": "P1Rko_Xgzr54",
        "outputId": "f05d8522-39b4-40ba-e572-62f48cbee9d5"
      },
      "execution_count": null,
      "outputs": [
        {
          "output_type": "stream",
          "name": "stderr",
          "text": [
            "<ipython-input-22-cb1957ae4abc>:3: UserWarning: In Matplotlib 3.3 individual lines on a stem plot will be added as a LineCollection instead of individual lines. This significantly improves the performance of a stem plot. To remove this warning and switch to the new behaviour, set the \"use_line_collection\" keyword argument to True.\n",
            "  plt.stem(wave)\n"
          ]
        },
        {
          "output_type": "execute_result",
          "data": {
            "text/plain": [
              "<StemContainer object of 3 artists>"
            ]
          },
          "metadata": {},
          "execution_count": 22
        },
        {
          "output_type": "display_data",
          "data": {
            "text/plain": [
              "<Figure size 432x288 with 1 Axes>"
            ],
            "image/png": "[encoded data removed]"
          },
          "metadata": {
            "needs_background": "light"
          }
        }
      ]
    },
    {
      "cell_type": "code",
      "source": [
        "ramp= 0.05*t-0.1\n",
        "plt.stem(ramp)"
      ],
      "metadata": {
        "colab": {
          "base_uri": "https://localhost:8080/",
          "height": 337
        },
        "id": "ugfCcpF603aF",
        "outputId": "d479eea9-9263-4de0-d3fb-2ee837f75064"
      },
      "execution_count": null,
      "outputs": [
        {
          "output_type": "stream",
          "name": "stderr",
          "text": [
            "<ipython-input-24-db488ee433d0>:2: UserWarning: In Matplotlib 3.3 individual lines on a stem plot will be added as a LineCollection instead of individual lines. This significantly improves the performance of a stem plot. To remove this warning and switch to the new behaviour, set the \"use_line_collection\" keyword argument to True.\n",
            "  plt.stem(ramp)\n"
          ]
        },
        {
          "output_type": "execute_result",
          "data": {
            "text/plain": [
              "<StemContainer object of 3 artists>"
            ]
          },
          "metadata": {},
          "execution_count": 24
        },
        {
          "output_type": "display_data",
          "data": {
            "text/plain": [
              "<Figure size 432x288 with 1 Axes>"
            ],
            "image/png": "[encoded data removed]"
          },
          "metadata": {
            "needs_background": "light"
          }
        }
      ]
    },
    {
      "cell_type": "code",
      "source": [
        "wave_plus_ramp= wave+ramp\n",
        "plt.stem(wave_plus_ramp)"
      ],
      "metadata": {
        "colab": {
          "base_uri": "https://localhost:8080/",
          "height": 337
        },
        "id": "m4iB56OZ1PQ7",
        "outputId": "30d5dcb4-bb12-4c25-d15f-9fb19e233de8"
      },
      "execution_count": null,
      "outputs": [
        {
          "output_type": "stream",
          "name": "stderr",
          "text": [
            "<ipython-input-25-9552fd901883>:2: UserWarning: In Matplotlib 3.3 individual lines on a stem plot will be added as a LineCollection instead of individual lines. This significantly improves the performance of a stem plot. To remove this warning and switch to the new behaviour, set the \"use_line_collection\" keyword argument to True.\n",
            "  plt.stem(wave_plus_ramp)\n"
          ]
        },
        {
          "output_type": "execute_result",
          "data": {
            "text/plain": [
              "<StemContainer object of 3 artists>"
            ]
          },
          "metadata": {},
          "execution_count": 25
        },
        {
          "output_type": "display_data",
          "data": {
            "text/plain": [
              "<Figure size 432x288 with 1 Axes>"
            ],
            "image/png": "[encoded data removed]"
          },
          "metadata": {
            "needs_background": "light"
          }
        }
      ]
    },
    {
      "cell_type": "code",
      "source": [
        "def low_pass_filtering(x,w):\n",
        "  low_pass_filtered=[1/w]*w\n",
        "  output=nm.convolve(x,low_pass_filtered,'valid')\n",
        "  return output\n",
        "\n",
        "plt.stem(low_pass_filtering(wave_plus_ramp,20))"
      ],
      "metadata": {
        "colab": {
          "base_uri": "https://localhost:8080/",
          "height": 337
        },
        "id": "9sBZRs3H1Yx1",
        "outputId": "59f3266c-c7fd-4352-e05f-4ca533884009"
      },
      "execution_count": null,
      "outputs": [
        {
          "output_type": "stream",
          "name": "stderr",
          "text": [
            "<ipython-input-27-0ea7096b423d>:6: UserWarning: In Matplotlib 3.3 individual lines on a stem plot will be added as a LineCollection instead of individual lines. This significantly improves the performance of a stem plot. To remove this warning and switch to the new behaviour, set the \"use_line_collection\" keyword argument to True.\n",
            "  plt.stem(low_pass_filtering(wave_plus_ramp,20))\n"
          ]
        },
        {
          "output_type": "execute_result",
          "data": {
            "text/plain": [
              "<StemContainer object of 3 artists>"
            ]
          },
          "metadata": {},
          "execution_count": 27
        },
        {
          "output_type": "display_data",
          "data": {
            "text/plain": [
              "<Figure size 432x288 with 1 Axes>"
            ],
            "image/png": "[encoded data removed]"
          },
          "metadata": {
            "needs_background": "light"
          }
        }
      ]
    },
    {
      "cell_type": "markdown",
      "source": [
        "Meaning of [1/w]*w: It is done so that we get w number of samples of value 1/w"
      ],
      "metadata": {
        "id": "TNSZ1qLe8XDH"
      }
    },
    {
      "cell_type": "markdown",
      "source": [
        "#Task 6"
      ],
      "metadata": {
        "id": "CgOd1P8Y2Jxr"
      }
    },
    {
      "cell_type": "markdown",
      "source": [
        "Task Explanation: The applied mechanism is similar to the fifth task, however the high pass filter only accepts high passing frequency and discards the lower one. So when we have passed our newly formed frequency into the high pass filter, only the higher frequency one(our original input) comes as output removing the  impulse response signal."
      ],
      "metadata": {
        "id": "Q80wgKQA7olo"
      }
    },
    {
      "cell_type": "code",
      "source": [
        "def high_pass_filtering(x,w):\n",
        "  high_pass_filter=[-1/w]*w\n",
        "  high_pass_filter[0]=1-high_pass_filter[0]\n",
        "  return nm.convolve(x,high_pass_filter, 'valid')\n",
        "\n",
        "plt.stem(high_pass_filtering(wave_plus_ramp,15))\n"
      ],
      "metadata": {
        "colab": {
          "base_uri": "https://localhost:8080/",
          "height": 337
        },
        "id": "EwQrq0l_2B1Q",
        "outputId": "16b94950-1be5-4092-ad03-4aa52239f52f"
      },
      "execution_count": null,
      "outputs": [
        {
          "output_type": "stream",
          "name": "stderr",
          "text": [
            "<ipython-input-28-f323fc6e20ac>:6: UserWarning: In Matplotlib 3.3 individual lines on a stem plot will be added as a LineCollection instead of individual lines. This significantly improves the performance of a stem plot. To remove this warning and switch to the new behaviour, set the \"use_line_collection\" keyword argument to True.\n",
            "  plt.stem(high_pass_filtering(wave_plus_ramp,15))\n"
          ]
        },
        {
          "output_type": "execute_result",
          "data": {
            "text/plain": [
              "<StemContainer object of 3 artists>"
            ]
          },
          "metadata": {},
          "execution_count": 28
        },
        {
          "output_type": "display_data",
          "data": {
            "text/plain": [
              "<Figure size 432x288 with 1 Axes>"
            ],
            "image/png": "[encoded data removed]"
          },
          "metadata": {
            "needs_background": "light"
          }
        }
      ]
    },
    {
      "cell_type": "code",
      "source": [],
      "metadata": {
        "id": "cwz5DnUd8QkE"
      },
      "execution_count": null,
      "outputs": []
    }
  ]
}