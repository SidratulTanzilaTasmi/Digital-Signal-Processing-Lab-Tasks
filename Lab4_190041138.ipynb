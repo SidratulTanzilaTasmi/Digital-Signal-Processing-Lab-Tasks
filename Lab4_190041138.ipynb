{
  "nbformat": 4,
  "nbformat_minor": 0,
  "metadata": {
    "colab": {
      "provenance": []
    },
    "kernelspec": {
      "name": "python3",
      "display_name": "Python 3"
    },
    "language_info": {
      "name": "python"
    }
  },
  "cells": [
    {
      "cell_type": "markdown",
      "source": [
        "Importing all the necessary libraries and uploading the wav file"
      ],
      "metadata": {
        "id": "1syCcSy0FTcM"
      }
    },
    {
      "cell_type": "code",
      "execution_count": null,
      "metadata": {
        "id": "Rkly-d9BFIEo"
      },
      "outputs": [],
      "source": [
        "import numpy as np\n",
        "import matplotlib.pyplot as plt\n",
        "from scipy.io import wavfile\n",
        "import math"
      ]
    },
    {
      "cell_type": "code",
      "source": [
        "from  google.colab import files\n",
        "upload= files.upload()"
      ],
      "metadata": {
        "colab": {
          "base_uri": "https://localhost:8080/",
          "height": 73
        },
        "id": "FFhEIcM9FQ5d",
        "outputId": "b8203f25-261f-46b0-ffa5-b50769fce6db"
      },
      "execution_count": null,
      "outputs": [
        {
          "output_type": "display_data",
          "data": {
            "text/plain": [
              "<IPython.core.display.HTML object>"
            ],
            "text/html": [
              "\n",
              "     <input type=\"file\" id=\"files-35baeb4a-3fe6-4b68-8ed1-c96b799b4f9e\" name=\"files[]\" multiple disabled\n",
              "        style=\"border:none\" />\n",
              "     <output id=\"result-35baeb4a-3fe6-4b68-8ed1-c96b799b4f9e\">\n",
              "      Upload widget is only available when the cell has been executed in the\n",
              "      current browser session. Please rerun this cell to enable.\n",
              "      </output>\n",
              "      <script>// Copyright 2017 Google LLC\n",
              "//\n",
              "// Licensed under the Apache License, Version 2.0 (the \"License\");\n",
              "// you may not use this file except in compliance with the License.\n",
              "// You may obtain a copy of the License at\n",
              "//\n",
              "//      http://www.apache.org/licenses/LICENSE-2.0\n",
              "//\n",
              "// Unless required by applicable law or agreed to in writing, software\n",
              "// distributed under the License is distributed on an \"AS IS\" BASIS,\n",
              "// WITHOUT WARRANTIES OR CONDITIONS OF ANY KIND, either express or implied.\n",
              "// See the License for the specific language governing permissions and\n",
              "// limitations under the License.\n",
              "\n",
              "/**\n",
              " * @fileoverview Helpers for google.colab Python module.\n",
              " */\n",
              "(function(scope) {\n",
              "function span(text, styleAttributes = {}) {\n",
              "  const element = document.createElement('span');\n",
              "  element.textContent = text;\n",
              "  for (const key of Object.keys(styleAttributes)) {\n",
              "    element.style[key] = styleAttributes[key];\n",
              "  }\n",
              "  return element;\n",
              "}\n",
              "\n",
              "// Max number of bytes which will be uploaded at a time.\n",
              "const MAX_PAYLOAD_SIZE = 100 * 1024;\n",
              "\n",
              "function _uploadFiles(inputId, outputId) {\n",
              "  const steps = uploadFilesStep(inputId, outputId);\n",
              "  const outputElement = document.getElementById(outputId);\n",
              "  // Cache steps on the outputElement to make it available for the next call\n",
              "  // to uploadFilesContinue from Python.\n",
              "  outputElement.steps = steps;\n",
              "\n",
              "  return _uploadFilesContinue(outputId);\n",
              "}\n",
              "\n",
              "// This is roughly an async generator (not supported in the browser yet),\n",
              "// where there are multiple asynchronous steps and the Python side is going\n",
              "// to poll for completion of each step.\n",
              "// This uses a Promise to block the python side on completion of each step,\n",
              "// then passes the result of the previous step as the input to the next step.\n",
              "function _uploadFilesContinue(outputId) {\n",
              "  const outputElement = document.getElementById(outputId);\n",
              "  const steps = outputElement.steps;\n",
              "\n",
              "  const next = steps.next(outputElement.lastPromiseValue);\n",
              "  return Promise.resolve(next.value.promise).then((value) => {\n",
              "    // Cache the last promise value to make it available to the next\n",
              "    // step of the generator.\n",
              "    outputElement.lastPromiseValue = value;\n",
              "    return next.value.response;\n",
              "  });\n",
              "}\n",
              "\n",
              "/**\n",
              " * Generator function which is called between each async step of the upload\n",
              " * process.\n",
              " * @param {string} inputId Element ID of the input file picker element.\n",
              " * @param {string} outputId Element ID of the output display.\n",
              " * @return {!Iterable<!Object>} Iterable of next steps.\n",
              " */\n",
              "function* uploadFilesStep(inputId, outputId) {\n",
              "  const inputElement = document.getElementById(inputId);\n",
              "  inputElement.disabled = false;\n",
              "\n",
              "  const outputElement = document.getElementById(outputId);\n",
              "  outputElement.innerHTML = '';\n",
              "\n",
              "  const pickedPromise = new Promise((resolve) => {\n",
              "    inputElement.addEventListener('change', (e) => {\n",
              "      resolve(e.target.files);\n",
              "    });\n",
              "  });\n",
              "\n",
              "  const cancel = document.createElement('button');\n",
              "  inputElement.parentElement.appendChild(cancel);\n",
              "  cancel.textContent = 'Cancel upload';\n",
              "  const cancelPromise = new Promise((resolve) => {\n",
              "    cancel.onclick = () => {\n",
              "      resolve(null);\n",
              "    };\n",
              "  });\n",
              "\n",
              "  // Wait for the user to pick the files.\n",
              "  const files = yield {\n",
              "    promise: Promise.race([pickedPromise, cancelPromise]),\n",
              "    response: {\n",
              "      action: 'starting',\n",
              "    }\n",
              "  };\n",
              "\n",
              "  cancel.remove();\n",
              "\n",
              "  // Disable the input element since further picks are not allowed.\n",
              "  inputElement.disabled = true;\n",
              "\n",
              "  if (!files) {\n",
              "    return {\n",
              "      response: {\n",
              "        action: 'complete',\n",
              "      }\n",
              "    };\n",
              "  }\n",
              "\n",
              "  for (const file of files) {\n",
              "    const li = document.createElement('li');\n",
              "    li.append(span(file.name, {fontWeight: 'bold'}));\n",
              "    li.append(span(\n",
              "        `(${file.type || 'n/a'}) - ${file.size} bytes, ` +\n",
              "        `last modified: ${\n",
              "            file.lastModifiedDate ? file.lastModifiedDate.toLocaleDateString() :\n",
              "                                    'n/a'} - `));\n",
              "    const percent = span('0% done');\n",
              "    li.appendChild(percent);\n",
              "\n",
              "    outputElement.appendChild(li);\n",
              "\n",
              "    const fileDataPromise = new Promise((resolve) => {\n",
              "      const reader = new FileReader();\n",
              "      reader.onload = (e) => {\n",
              "        resolve(e.target.result);\n",
              "      };\n",
              "      reader.readAsArrayBuffer(file);\n",
              "    });\n",
              "    // Wait for the data to be ready.\n",
              "    let fileData = yield {\n",
              "      promise: fileDataPromise,\n",
              "      response: {\n",
              "        action: 'continue',\n",
              "      }\n",
              "    };\n",
              "\n",
              "    // Use a chunked sending to avoid message size limits. See b/62115660.\n",
              "    let position = 0;\n",
              "    do {\n",
              "      const length = Math.min(fileData.byteLength - position, MAX_PAYLOAD_SIZE);\n",
              "      const chunk = new Uint8Array(fileData, position, length);\n",
              "      position += length;\n",
              "\n",
              "      const base64 = btoa(String.fromCharCode.apply(null, chunk));\n",
              "      yield {\n",
              "        response: {\n",
              "          action: 'append',\n",
              "          file: file.name,\n",
              "          data: base64,\n",
              "        },\n",
              "      };\n",
              "\n",
              "      let percentDone = fileData.byteLength === 0 ?\n",
              "          100 :\n",
              "          Math.round((position / fileData.byteLength) * 100);\n",
              "      percent.textContent = `${percentDone}% done`;\n",
              "\n",
              "    } while (position < fileData.byteLength);\n",
              "  }\n",
              "\n",
              "  // All done.\n",
              "  yield {\n",
              "    response: {\n",
              "      action: 'complete',\n",
              "    }\n",
              "  };\n",
              "}\n",
              "\n",
              "scope.google = scope.google || {};\n",
              "scope.google.colab = scope.google.colab || {};\n",
              "scope.google.colab._files = {\n",
              "  _uploadFiles,\n",
              "  _uploadFilesContinue,\n",
              "};\n",
              "})(self);\n",
              "</script> "
            ]
          },
          "metadata": {}
        },
        {
          "output_type": "stream",
          "name": "stdout",
          "text": [
            "Saving Lab 4.wav to Lab 4.wav\n"
          ]
        }
      ]
    },
    {
      "cell_type": "code",
      "source": [
        "\n",
        "samplerate, data=wavfile.read(\"Lab 4.wav\")"
      ],
      "metadata": {
        "id": "Lgya3RLvFSeR"
      },
      "execution_count": null,
      "outputs": []
    },
    {
      "cell_type": "markdown",
      "source": [
        "#Task 1"
      ],
      "metadata": {
        "id": "io7GJrDWFiYL"
      }
    },
    {
      "cell_type": "markdown",
      "source": [
        "a.function [ReX,ImX] = myDFT(x)"
      ],
      "metadata": {
        "id": "jaq7mGfzH94A"
      }
    },
    {
      "cell_type": "markdown",
      "source": [
        "Task Explanation:\n",
        "<br>In this case we build our DFT function, which takes one signal in Time Domain as input and returns the frequency domain signals as output. Initially, we took the range value for our signal X, as in frequency domain, the two cosine and sine component have the range length/2+1 we divided it in such a way. After that until the new range, the real and imaginary components were assigned zero. Then after iterating through the new range of real and imaginary component, for each iteration, we took a second loop that runs accorss the original signal, and we assigned them like: cos(theta* component in the tds* component in the fds) for both sine and cosine functions. In this way we got the real and imaginary compoenents of our signal. After that it was compared with my built in DFT function available in numpylibrary, which shows the correctness of my function."
      ],
      "metadata": {
        "id": "SqnK8-j4FjrB"
      }
    },
    {
      "cell_type": "code",
      "source": [
        "def myDFT(x):\n",
        "  range_=len(x)\n",
        "  length_for_sine_cosine=(range_//2)+1\n",
        "  Re_X=np.zeros(length_for_sine_cosine)\n",
        "  Im_X=np.zeros(length_for_sine_cosine)\n",
        "  theta=2*math.pi*range_\n",
        "\n",
        "  for k in range((range_//2)+1):\n",
        "    for i in range(len(x)-1):\n",
        "      Re_X[k]+= x[i]* math.cos(theta*k*i)\n",
        "      Im_X[k]+= x[i]*math.sin(theta*k*i)\n",
        "  print('Using From Scratch Build DFT:\\n')\n",
        "  print(Re_X,'\\n', Im_X)\n",
        "  return Re_X, Im_X\n",
        "TDS=np.zeros(32)\n",
        "TDS[0]=32\n",
        "x,y=myDFT(TDS)\n",
        "print(\"\\nComparing it with built in DFT function\\n\")\n",
        "spectral_analysis2=np.fft.rfft(TDS)\n",
        "print(spectral_analysis2.real,'\\n', spectral_analysis2.imag)\n",
        "\n"
      ],
      "metadata": {
        "colab": {
          "base_uri": "https://localhost:8080/"
        },
        "id": "fdi2HFPGFhpg",
        "outputId": "71314e3c-79ee-45e2-eb39-57b347d8a5aa"
      },
      "execution_count": null,
      "outputs": [
        {
          "output_type": "stream",
          "name": "stdout",
          "text": [
            "Using From Scratch Build DFT:\n",
            "\n",
            "[32. 32. 32. 32. 32. 32. 32. 32. 32. 32. 32. 32. 32. 32. 32. 32. 32.] \n",
            " [0. 0. 0. 0. 0. 0. 0. 0. 0. 0. 0. 0. 0. 0. 0. 0. 0.]\n",
            "\n",
            "Comparing it with built in DFT function\n",
            "\n",
            "[32. 32. 32. 32. 32. 32. 32. 32. 32. 32. 32. 32. 32. 32. 32. 32. 32.] \n",
            " [ 0.  0. -0.  0.  0.  0.  0.  0. -0.  0.  0.  0.  0.  0.  0.  0.  0.]\n"
          ]
        }
      ]
    },
    {
      "cell_type": "markdown",
      "source": [
        "**b. function x = myIDFT(ReX,ImX)**"
      ],
      "metadata": {
        "id": "QMjsyOpDIKnc"
      }
    },
    {
      "cell_type": "markdown",
      "source": [
        "Task Explanation:\n",
        "<br>The next function is the inverse of the DFT function. Here from giving the real and imaginary components we build our original time domain signal. As we know that the original length(range in this function) of the time domain signal is twice the range of my signal. Then after iterating through the length of my TDS:  the summation of the real and imaginary compoents were found by dividing it by range/2. It is done due to sprectal density using this formula:\n",
        "![image.png](data:image/png;base64,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)\n",
        "After wards itierating through the range of TDS, for each iteration, another loop was run for FDS, where the real and imaginary component of the signals were added to the TDS. This function is just the exact oppossite of my DFT function."
      ],
      "metadata": {
        "id": "RoDkjqDxGjcY"
      }
    },
    {
      "cell_type": "code",
      "source": [
        "def myIDFT(Re_x, Im_X):\n",
        "  Re_X2=np.array(Re_x)\n",
        "  Im_X2=np.array(Im_X)\n",
        "  range_=len(Re_x)*2\n",
        "  x=np.zeros(range_)\n",
        "  length=(range_//2)\n",
        "\n",
        "  for k in range(length):\n",
        "    Re_X2[k]=Re_X2[k]/length\n",
        "    Im_X2[k]=Im_X2[k]/length\n",
        "\n",
        "  Re_X2[0]=Re_X2[0]/2\n",
        "  Re_X2[-1]=Re_X2[-1]/2\n",
        "  theta=2*math.pi/range_\n",
        "\n",
        "  for k in range(length):\n",
        "    for i in range(range_-1):\n",
        "      x[i]+=Re_X2[k]*math.cos(theta*k*i)\n",
        "      x[i]+=Im_X2[k]*math.sin(theta*k*i)\n",
        "  print(\"Using My built in Inverse Transformation:\\n\")\n",
        "  print(x)\n",
        "  plt.stem(x)\n",
        "  plt.show()\n",
        "  return x\n",
        "\n",
        "TDS=myIDFT(spectral_analysis2.real, spectral_analysis2.imag)\n",
        "\n"
      ],
      "metadata": {
        "colab": {
          "base_uri": "https://localhost:8080/",
          "height": 456
        },
        "id": "auiBCVsGFo5a",
        "outputId": "4368f9ac-3cb6-456c-89bd-7f25e5356bdc"
      },
      "execution_count": null,
      "outputs": [
        {
          "output_type": "stream",
          "name": "stdout",
          "text": [
            "Using My built in Inverse Transformation:\n",
            "\n",
            "[ 3.01176471e+01  1.86632762e+00 -1.81879739e+00  1.74138083e+00\n",
            " -1.63671428e+00  1.50836201e+00 -1.36069492e+00  1.19874164e+00\n",
            " -1.02801728e+00  8.54335662e-01 -6.83611303e-01  5.21658018e-01\n",
            " -3.73990930e-01  2.45638666e-01 -1.40972108e-01  6.35555488e-02\n",
            " -1.60253179e-02  0.00000000e+00 -1.60253179e-02  6.35555488e-02\n",
            " -1.40972108e-01  2.45638666e-01 -3.73990930e-01  5.21658018e-01\n",
            " -6.83611303e-01  8.54335662e-01 -1.02801728e+00  1.19874164e+00\n",
            " -1.36069492e+00  1.50836201e+00 -1.63671428e+00  1.74138083e+00\n",
            " -1.81879739e+00  0.00000000e+00]\n"
          ]
        },
        {
          "output_type": "display_data",
          "data": {
            "text/plain": [
              "<Figure size 432x288 with 1 Axes>"
            ],
            "image/png": "[encoded data removed]"
          },
          "metadata": {
            "needs_background": "light"
          }
        }
      ]
    },
    {
      "cell_type": "markdown",
      "source": [
        "**c. function [MagX, PhaseX] = Rect2Polar(ReX, ImX)**"
      ],
      "metadata": {
        "id": "9QfQ0dAJHzL9"
      }
    },
    {
      "cell_type": "markdown",
      "source": [
        "Task Explanation:\n",
        "<br> In this task, using the np.multiply function, vectors of the Rex and Imx(the real and imaginary components of the signals) were multiplied to find the corresponding square values. After that the square values were added and the root of them was found using the sqrt function. In case of finding the value of theta, the theta values were kept in a vector. Since, dividing the real and imaginary compoents can result in zero, a small portion of value was added to the imaginary compoent signals to avoid the divide by zero problem. After that using the np.divide the two vectors of real and imaginary compoent were divided. Then for each value in the newly divided function, the arc tan function was used. This function was done in reference to the formula given in book as:\n",
        "![image.png](data:image/png;base64,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)"
      ],
      "metadata": {
        "id": "ijxHhiiEH7tz"
      }
    },
    {
      "cell_type": "code",
      "source": [
        "def Rect2Polar(ReX, ImX):\n",
        "  #Mg_X=math.sqrt(np.multiply(Re_X*Re_X)+ np.multiply(Im_X*Im_X))\n",
        "    a=np.multiply(ReX, ReX)\n",
        "    b=np.multiply(ImX,ImX)\n",
        "    c=a+b\n",
        "    c=np.sqrt(c)\n",
        "    phase_arr=np.zeros(len(c))\n",
        "    for j in range(len(ImX)):\n",
        "        ImX[j]+=0.00003\n",
        "    phase=np.divide(ReX,ImX)\n",
        "    for i in range(len(phase)):\n",
        "        phase_arr[i]=np.arctan(phase[i])\n",
        "\n",
        "\n",
        "    print('The phase values are placed in vectors as:\\n');\n",
        "    print(phase_arr)\n",
        "    return c"
      ],
      "metadata": {
        "id": "wLxYAxW2GmxY"
      },
      "execution_count": null,
      "outputs": []
    },
    {
      "cell_type": "code",
      "source": [
        "ReX, ImX=myDFT(TDS)\n",
        "MgX= Rect2Polar(ReX, ImX)\n",
        "plt.plot(MgX)\n",
        "plt.figure()"
      ],
      "metadata": {
        "colab": {
          "base_uri": "https://localhost:8080/",
          "height": 560
        },
        "id": "VTZACrGdIccx",
        "outputId": "2e364201-054a-44b2-e93c-07818feb4bc8"
      },
      "execution_count": null,
      "outputs": [
        {
          "output_type": "stream",
          "name": "stdout",
          "text": [
            "Using From Scratch Build DFT:\n",
            "\n",
            "[30.13367238 30.13367238 30.13367238 30.13367238 30.13367238 30.13367238\n",
            " 30.13367238 30.13367238 30.13367238 30.13367238 30.13367238 30.13367238\n",
            " 30.13367238 30.13367238 30.13367238 30.13367238 30.13367238 30.13367238] \n",
            " [ 0.00000000e+00 -1.77959867e-13 -3.55919734e-13 -4.80852202e-12\n",
            " -7.11839467e-13 -7.19135863e-12 -9.61704404e-12  3.68153266e-12\n",
            " -1.42367893e-12 -6.45722860e-12 -1.43827173e-11 -3.07262462e-11\n",
            " -1.92340881e-11  4.02114687e-11  7.36306531e-12  1.37556364e-11\n",
            " -2.84735787e-12  6.87036390e-12]\n",
            "The phase values are placed in vectors as:\n",
            "\n",
            "[1.57079533 1.57079533 1.57079533 1.57079533 1.57079533 1.57079533\n",
            " 1.57079533 1.57079533 1.57079533 1.57079533 1.57079533 1.57079533\n",
            " 1.57079533 1.57079533 1.57079533 1.57079533 1.57079533 1.57079533]\n"
          ]
        },
        {
          "output_type": "execute_result",
          "data": {
            "text/plain": [
              "<Figure size 432x288 with 0 Axes>"
            ]
          },
          "metadata": {},
          "execution_count": 7
        },
        {
          "output_type": "display_data",
          "data": {
            "text/plain": [
              "<Figure size 432x288 with 1 Axes>"
            ],
            "image/png": "[encoded data removed]"
          },
          "metadata": {
            "needs_background": "light"
          }
        },
        {
          "output_type": "display_data",
          "data": {
            "text/plain": [
              "<Figure size 432x288 with 0 Axes>"
            ]
          },
          "metadata": {}
        }
      ]
    },
    {
      "cell_type": "markdown",
      "source": [
        "#Task 2"
      ],
      "metadata": {
        "id": "DW3KKombNdzs"
      }
    },
    {
      "cell_type": "code",
      "source": [
        "plt.plot(data)\n",
        "plt.show()"
      ],
      "metadata": {
        "colab": {
          "base_uri": "https://localhost:8080/",
          "height": 265
        },
        "id": "bw8I4nyzJZbm",
        "outputId": "437ff272-4d2e-402c-bcf9-b5ca364f41a2"
      },
      "execution_count": null,
      "outputs": [
        {
          "output_type": "display_data",
          "data": {
            "text/plain": [
              "<Figure size 432x288 with 1 Axes>"
            ],
            "image/png": "[encoded data removed]"
          },
          "metadata": {
            "needs_background": "light"
          }
        }
      ]
    },
    {
      "cell_type": "markdown",
      "source": [
        "a. The given audio file Lab 4.wav is a recording of a tuning fork ringing. Tuning forks\n",
        "have a particular frequency. Plot the signal from the given audio file. Then, do spectral\n",
        "analysis on the signal to find out what was the frequency of the tuning fork."
      ],
      "metadata": {
        "id": "hfy_mYsfN7sD"
      }
    },
    {
      "cell_type": "markdown",
      "source": [
        "Task Explanation:\n",
        "<br> The built in dft function was called directly, the real_x contains the real part while the imag_x contains the imaginary part. The corresponding signals were plotted as function."
      ],
      "metadata": {
        "id": "zclHTzYtOMXG"
      }
    },
    {
      "cell_type": "code",
      "source": [
        "sprectral_analysis=np.fft.rfft(data)\n",
        "Real_X=sprectral_analysis.real\n",
        "Imag_X=-sprectral_analysis.imag\n",
        "Mg_X=np.sqrt(Real_X*Real_X+(Imag_X*Imag_X))\n",
        "plt.plot(Real_X)\n",
        "plt.show()\n",
        "plt.plot(Imag_X)\n",
        "plt.show()\n",
        "plt.plot(Mg_X)\n",
        "plt.show()"
      ],
      "metadata": {
        "colab": {
          "base_uri": "https://localhost:8080/",
          "height": 794
        },
        "id": "3Km3AaWwNhmS",
        "outputId": "8f874668-266b-4133-dcc8-4a279c3a6e03"
      },
      "execution_count": null,
      "outputs": [
        {
          "output_type": "display_data",
          "data": {
            "text/plain": [
              "<Figure size 432x288 with 1 Axes>"
            ],
            "image/png": "[encoded data removed]"
          },
          "metadata": {
            "needs_background": "light"
          }
        },
        {
          "output_type": "display_data",
          "data": {
            "text/plain": [
              "<Figure size 432x288 with 1 Axes>"
            ],
            "image/png": "[encoded data removed]"
          },
          "metadata": {
            "needs_background": "light"
          }
        },
        {
          "output_type": "display_data",
          "data": {
            "text/plain": [
              "<Figure size 432x288 with 1 Axes>"
            ],
            "image/png": "[encoded data removed]"
          },
          "metadata": {
            "needs_background": "light"
          }
        }
      ]
    },
    {
      "cell_type": "markdown",
      "source": [
        "**Task Explanation:**\n",
        "<br> To find the frequency of signals the max frequency of the combined real and imaginary compoent of the signals were taken. Since the signals were sampled at a sample rate and the sample frequency is usally the twice the frequency of the original signal, in that way we got the original signal which was then multipled by the sampling rate and divided accross the length of the original signal. In this way we got the original frequency."
      ],
      "metadata": {
        "id": "N8_Lp6VCO4z5"
      }
    },
    {
      "cell_type": "code",
      "source": [
        "frequency=np.argmax(Mg_X)\n",
        "length=len(Mg_X)\n",
        "sampling_frequency=frequency/2\n",
        "sampling_frequency=sampling_frequency*samplerate\n",
        "frequency=sampling_frequency/length\n",
        "frequency"
      ],
      "metadata": {
        "colab": {
          "base_uri": "https://localhost:8080/"
        },
        "id": "UMRrxjT9Ogzs",
        "outputId": "6b7bfe69-973b-4fac-eaec-0386035fb9a1"
      },
      "execution_count": null,
      "outputs": [
        {
          "output_type": "execute_result",
          "data": {
            "text/plain": [
              "447.07426314775574"
            ]
          },
          "metadata": {},
          "execution_count": 10
        }
      ]
    },
    {
      "cell_type": "markdown",
      "source": [
        "b. To get a clean spectrum, you can first multiply the time domain signal with a\n",
        "hamming window using the function numpy.hamming. To make the spectrum signal\n",
        "smoother, you can take multiple time-domain signal chunks, then find each of their\n",
        "spectrum and then average them."
      ],
      "metadata": {
        "id": "EJYL9l93Pd4M"
      }
    },
    {
      "cell_type": "markdown",
      "source": [
        "Task Explanation:\n",
        "<br> The original signal was multiplied with the hamming signal which was formed using the numpy. hamming function."
      ],
      "metadata": {
        "id": "dXCOgXQYQREX"
      }
    },
    {
      "cell_type": "code",
      "source": [
        "a=np.split(data,2)"
      ],
      "metadata": {
        "id": "D_3tE0ptUyww"
      },
      "execution_count": null,
      "outputs": []
    },
    {
      "cell_type": "code",
      "source": [
        "a[0]"
      ],
      "metadata": {
        "colab": {
          "base_uri": "https://localhost:8080/"
        },
        "id": "O-uhU3N0Vfva",
        "outputId": "26fda40d-4950-43de-c928-bbcd21e69e2b"
      },
      "execution_count": null,
      "outputs": [
        {
          "output_type": "execute_result",
          "data": {
            "text/plain": [
              "array([ -69,  -29,  -28, ..., 2498, 2615, 2715], dtype=int16)"
            ]
          },
          "metadata": {},
          "execution_count": 12
        }
      ]
    },
    {
      "cell_type": "code",
      "source": [
        "data1=np.subtract(data,19)"
      ],
      "metadata": {
        "id": "Pcg5Q83AXuLk"
      },
      "execution_count": null,
      "outputs": []
    },
    {
      "cell_type": "code",
      "source": [
        "window=np.hamming(93437)\n",
        "signal=np.multiply(a[0], window)\n",
        "#x,y=myDFT(signal)\n",
        "signal1=np.array_split(signal,32)"
      ],
      "metadata": {
        "id": "taM77YhcWO0F"
      },
      "execution_count": null,
      "outputs": []
    },
    {
      "cell_type": "markdown",
      "source": [
        "The signal was divided into two equal halves, and was multiplied with corresponding hamming window. Afterwards, the average of the output was taken."
      ],
      "metadata": {
        "id": "yKUA_F5uZ81f"
      }
    },
    {
      "cell_type": "code",
      "source": [
        "x1,y1=myDFT(signal1[0])\n"
      ],
      "metadata": {
        "colab": {
          "base_uri": "https://localhost:8080/"
        },
        "id": "DamhBV_Ia8yD",
        "outputId": "a5843a9d-8819-47b3-970f-3e2b0a949da4"
      },
      "execution_count": null,
      "outputs": [
        {
          "output_type": "stream",
          "name": "stdout",
          "text": [
            "Using From Scratch Build DFT:\n",
            "\n",
            "[1993.7313959  1993.7313959  1993.7313959  ... 1993.73139589 1993.73139587\n",
            " 1993.73139589] \n",
            " [0.00000000e+00 9.14582612e-07 1.82916522e-06 ... 6.37537634e-04\n",
            " 7.52661522e-03 1.37564509e-03]\n"
          ]
        }
      ]
    },
    {
      "cell_type": "markdown",
      "source": [
        "Here the Time domain signal was divided into equal portion of 32 chunks using the numpy.splt function and after that each chunk was added to the real and imaginary portion of the function"
      ],
      "metadata": {
        "id": "KHLwgde2b4Rk"
      }
    },
    {
      "cell_type": "code",
      "source": [
        "for i in range(0,32):\n",
        "  x,y=myDFT(signal1[i])\n",
        "  #x1=np.add(x1,x)\n",
        "  #y1=np.add(y1,y)"
      ],
      "metadata": {
        "colab": {
          "base_uri": "https://localhost:8080/"
        },
        "id": "t_WDxAPWZ2en",
        "outputId": "62978b4f-d681-4154-dbe0-69bab39a059c"
      },
      "execution_count": null,
      "outputs": [
        {
          "output_type": "stream",
          "name": "stdout",
          "text": [
            "Using From Scratch Build DFT:\n",
            "\n",
            "[1993.7313959  1993.7313959  1993.7313959  ... 1993.73139589 1993.73139587\n",
            " 1993.73139589] \n",
            " [0.00000000e+00 9.14582612e-07 1.82916522e-06 ... 6.37537634e-04\n",
            " 7.52661522e-03 1.37564509e-03]\n",
            "Using From Scratch Build DFT:\n",
            "\n",
            "[8444.51096166 8444.51096166 8444.51096166 ... 8444.51096167 8444.51096162\n",
            " 8444.51096159] \n",
            " [ 0.00000000e+00  1.60224826e-05  3.20449651e-05 ... -2.07842024e-02\n",
            "  2.37856992e-02  3.69043478e-03]\n",
            "Using From Scratch Build DFT:\n",
            "\n",
            "[20498.71251807 20498.71251807 20498.71251807 ... 20498.71251788\n",
            " 20498.71251802 20498.71251811] \n",
            " [0.00000000e+00 3.97838689e-05 7.95677377e-05 ... 1.38948798e-01\n",
            " 5.09304725e-02 3.98894180e-03]\n",
            "Using From Scratch Build DFT:\n",
            "\n",
            "[-19150.3390973  -19150.3390973  -19150.3390973  ... -19150.33909717\n",
            " -19150.33909716 -19150.33909722] \n",
            " [ 0.00000000e+00 -4.46491274e-05 -8.92982548e-05 ... -9.09413006e-02\n",
            " -6.40845177e-02 -5.29016278e-03]\n",
            "Using From Scratch Build DFT:\n",
            "\n",
            "[-14498.99064081 -14498.99064081 -14498.99064081 ... -14498.99064042\n",
            " -14498.99064051 -14498.99064076] \n",
            " [ 0.00000000e+00 -6.58312829e-05 -1.31662566e-04 ... -2.43778501e-01\n",
            " -1.08335978e-01 -3.14878995e-02]\n",
            "Using From Scratch Build DFT:\n",
            "\n",
            "[8673.59173464 8673.59173464 8673.59173464 ... 8673.59173494 8673.59173457\n",
            " 8673.59173449] \n",
            " [ 0.00000000e+00 -2.58312844e-05 -5.16625687e-05 ... -2.22661070e-01\n",
            " -6.45020771e-03 -1.02491845e-02]\n",
            "Using From Scratch Build DFT:\n",
            "\n",
            "[-14577.70128922 -14577.70128922 -14577.70128922 ... -14577.70128862\n",
            " -14577.70128886 -14577.7012892 ] \n",
            " [ 0.00000000e+00 -6.11072460e-05 -1.22214492e-04 ... -3.48125374e-01\n",
            " -9.48355532e-02 -4.87821760e-02]\n",
            "Using From Scratch Build DFT:\n",
            "\n",
            "[22542.06319637 22542.06319637 22542.06319637 ... 22542.06319677\n",
            " 22542.06319632 22542.06319614] \n",
            " [ 0.00000000e+00 -2.88372739e-05 -5.76745478e-05 ... -3.32084411e-01\n",
            " -1.37147415e-02 -3.43569945e-02]\n",
            "Using From Scratch Build DFT:\n",
            "\n",
            "[8722.0703856  8722.0703856  8722.0703856  ... 8722.07038618 8722.07038581\n",
            " 8722.07038548] \n",
            " [ 0.00000000e+00 -4.24249764e-05 -8.48499528e-05 ... -3.84344304e-01\n",
            " -5.59661396e-02 -5.48285500e-02]\n",
            "Using From Scratch Build DFT:\n",
            "\n",
            "[39846.35642578 39846.35642578 39846.35642578 ... 39846.35642613\n",
            " 39846.35642531 39846.35642544] \n",
            " [ 0.00000000e+00 -1.26732544e-05 -2.53465087e-05 ... -3.36496760e-01\n",
            "  9.89131811e-02 -2.24287685e-02]\n",
            "Using From Scratch Build DFT:\n",
            "\n",
            "[60328.28305849 60328.28305849 60328.28305849 ... 60328.28305833\n",
            " 60328.28305758 60328.28305798] \n",
            " [ 0.00000000e+00  1.35286214e-04  2.70572429e-04 ... -2.08058147e-02\n",
            "  2.32322474e-01  7.19292669e-03]\n",
            "Using From Scratch Build DFT:\n",
            "\n",
            "[30825.67799107 30825.67799107 30825.67799107 ... 30825.67799028\n",
            " 30825.67799053 30825.67799084] \n",
            " [0.00000000e+00 1.79311037e-04 3.58622073e-04 ... 4.72730002e-01\n",
            " 2.25855009e-01 2.31478426e-02]\n",
            "Using From Scratch Build DFT:\n",
            "\n",
            "[-1244.24649381 -1244.24649381 -1244.24649381 ... -1244.2464946\n",
            " -1244.24649404 -1244.24649365] \n",
            " [0.00000000e+00 1.09503135e-04 2.19006271e-04 ... 5.36910412e-01\n",
            " 1.20064910e-01 4.82840327e-02]\n",
            "Using From Scratch Build DFT:\n",
            "\n",
            "[-11369.80284582 -11369.80284582 -11369.80284582 ... -11369.8028456\n",
            " -11369.80284565 -11369.80284557] \n",
            " [ 0.00000000e+00 -1.14990887e-04 -2.29981775e-04 ... -1.44290079e-01\n",
            " -4.26035973e-02  1.87172165e-02]\n",
            "Using From Scratch Build DFT:\n",
            "\n",
            "[37768.83586075 37768.83586075 37768.83586075 ... 37768.83586137\n",
            " 37768.83586061 37768.83586069] \n",
            " [ 0.00000000e+00 -1.10009969e-04 -2.20019939e-04 ... -4.79702658e-01\n",
            " -1.52766875e-02 -8.05152352e-04]\n",
            "Using From Scratch Build DFT:\n",
            "\n",
            "[58026.40772351 58026.40772351 58026.40772351 ... 58026.40772397\n",
            " 58026.4077231  58026.40772301] \n",
            " [ 0.00000000e+00 -2.27027111e-05 -4.54054222e-05 ... -4.66169872e-01\n",
            "  7.03049285e-02 -2.69139526e-02]\n",
            "Using From Scratch Build DFT:\n",
            "\n",
            "[66403.57372704 66403.57372704 66403.57372704 ... 66403.57372653\n",
            " 66403.57372639 66403.57372667] \n",
            " [0.00000000e+00 1.54465648e-04 3.08931296e-04 ... 2.62059624e-01\n",
            " 2.21380127e-01 1.88255518e-02]\n",
            "Using From Scratch Build DFT:\n",
            "\n",
            "[-7429.4929705  -7429.4929705  -7429.4929705  ... -7429.49297125\n",
            " -7429.49297076 -7429.49297038] \n",
            " [0.00000000e+00 1.25306511e-04 2.50613022e-04 ... 5.29414531e-01\n",
            " 1.25270553e-01 2.66856280e-02]\n",
            "Using From Scratch Build DFT:\n",
            "\n",
            "[-33003.56044832 -33003.56044832 -33003.56044832 ... -33003.56044822\n",
            " -33003.56044784 -33003.56044797] \n",
            " [ 0.00000000e+00 -6.01103877e-05 -1.20220775e-04 ... -1.46168138e-02\n",
            " -1.16251344e-01  3.34706471e-03]\n",
            "Using From Scratch Build DFT:\n",
            "\n",
            "[77346.73971679 77346.73971679 77346.73971679 ... 77346.73971694\n",
            " 77346.73971601 77346.73971639] \n",
            " [ 0.00000000e+00 -3.79245315e-06 -7.58490630e-06 ... -1.93960711e-01\n",
            "  2.02298037e-01  3.50884706e-02]\n",
            "Using From Scratch Build DFT:\n",
            "\n",
            "[30822.26341039 30822.26341039 30822.26341039 ... 30822.26340989\n",
            " 30822.26341024 30822.26341038] \n",
            " [0.00000000e+00 1.24773574e-04 2.49547148e-04 ... 3.51026596e-01\n",
            " 1.30587578e-01 2.42725159e-02]\n",
            "Using From Scratch Build DFT:\n",
            "\n",
            "[12136.6817382  12136.6817382  12136.6817382  ... 12136.68173784\n",
            " 12136.68173784 12136.6817383 ] \n",
            " [0.00000000e+00 4.41586196e-05 8.83172393e-05 ... 2.43367009e-01\n",
            " 1.19523691e-01 3.38505494e-02]\n",
            "Using From Scratch Build DFT:\n",
            "\n",
            "[11384.61930699 11384.61930699 11384.61930699 ... 11384.61930696\n",
            " 11384.61930706 11384.61930721] \n",
            " [ 0.00000000e+00 -2.51276241e-05 -5.02552483e-05 ...  7.43887128e-02\n",
            "  2.41746576e-02  2.17901946e-02]\n",
            "Using From Scratch Build DFT:\n",
            "\n",
            "[30357.01753685 30357.01753685 30357.01753685 ... 30357.01753676\n",
            " 30357.01753654 30357.01753682] \n",
            " [ 0.00000000e+00 -1.71441590e-05 -3.42883179e-05 ... -1.92350657e-02\n",
            "  6.82450817e-02  2.49261263e-02]\n",
            "Using From Scratch Build DFT:\n",
            "\n",
            "[10527.46008569 10527.46008569 10527.46008569 ... 10527.46008583\n",
            " 10527.46008564 10527.46008572] \n",
            " [ 0.00000000e+00 -3.24521101e-05 -6.49042203e-05 ... -1.07418572e-01\n",
            "  9.69034439e-03 -2.91510985e-03]\n",
            "Using From Scratch Build DFT:\n",
            "\n",
            "[16232.56108216 16232.56108216 16232.56108216 ... 16232.56108231\n",
            " 16232.56108213 16232.5610821 ] \n",
            " [ 0.00000000e+00 -2.19859993e-05 -4.39719986e-05 ... -1.24629947e-01\n",
            "  4.30627410e-03 -6.66807720e-03]\n",
            "Using From Scratch Build DFT:\n",
            "\n",
            "[16474.15728266 16474.15728266 16474.15728266 ... 16474.15728266\n",
            " 16474.15728254 16474.15728258] \n",
            " [ 0.00000000e+00  1.45301584e-05  2.90603167e-05 ... -1.69368339e-02\n",
            "  3.86167040e-02 -4.34266547e-05]\n",
            "Using From Scratch Build DFT:\n",
            "\n",
            "[9945.74643467 9945.74643467 9945.74643467 ... 9945.74643455 9945.74643456\n",
            " 9945.74643464] \n",
            " [0.00000000e+00 3.04058251e-05 6.08116501e-05 ... 7.21545441e-02\n",
            " 4.33589448e-02 4.88460796e-03]\n",
            "Using From Scratch Build DFT:\n",
            "\n",
            "[233.37454326 233.37454326 233.37454326 ... 233.37454317 233.37454317\n",
            " 233.37454326] \n",
            " [0.00000000e+00 9.09325680e-06 1.81865136e-05 ... 4.54488371e-02\n",
            " 2.29474928e-02 8.37628891e-03]\n",
            "Using From Scratch Build DFT:\n",
            "\n",
            "[1077.68796069 1077.68796069 1077.68796069 ... 1077.68796067 1077.68796074\n",
            " 1077.68796068] \n",
            " [ 0.00000000e+00 -1.44638546e-06 -2.89277091e-06 ... -2.37090119e-03\n",
            " -3.23694371e-02 -2.97886934e-03]\n",
            "Using From Scratch Build DFT:\n",
            "\n",
            "[3304.66511168 3304.66511168 3304.66511168 ... 3304.66511167 3304.66511172\n",
            " 3304.66511168] \n",
            " [ 0.00000000e+00 -4.71990904e-06 -9.43981809e-06 ...  1.72468851e-03\n",
            " -2.38643245e-02  6.65676485e-03]\n",
            "Using From Scratch Build DFT:\n",
            "\n",
            "[3059.22306933 3059.22306933 3059.22306933 ... 3059.22306933 3059.22306934\n",
            " 3059.22306933] \n",
            " [ 0.00000000e+00 -4.86336736e-06 -9.72673472e-06 ...  4.68685355e-03\n",
            " -7.71603712e-03  6.05450921e-03]\n"
          ]
        }
      ]
    },
    {
      "cell_type": "markdown",
      "source": [
        "Since it was very explensive o(N^2) complexity to directly put the signal for DFT, the signal was divided into 32 chunk using the array split function and afterwards for each chunk of TDS signal the X and Y part of the DFT signal was calculated."
      ],
      "metadata": {
        "id": "7rZCCWlKfguS"
      }
    },
    {
      "cell_type": "code",
      "source": [
        "x1=x1/32 #used for averaging\n",
        "y1=y1/32"
      ],
      "metadata": {
        "id": "oO--tj_YbuRk"
      },
      "execution_count": null,
      "outputs": []
    },
    {
      "cell_type": "markdown",
      "source": [
        "#Task 3"
      ],
      "metadata": {
        "id": "hMkt_ttKcJUK"
      }
    },
    {
      "cell_type": "markdown",
      "source": [
        "Re-do the spectral analysis of the given sound signal with your own functions that you\n",
        "implemented for task 1. First, convert the time-domain signal into frequency domain.\n",
        "Then, express the frequency domain signal in its polar representation. Look at the\n",
        "magnitude array to find the frequency composition of the signal."
      ],
      "metadata": {
        "id": "DXzmDJn4cLwa"
      }
    },
    {
      "cell_type": "markdown",
      "source": [
        "Task Explanation:\n",
        "<br> This is similar to the first task where in this case we are calling our built in function with the original function of dft and idft. But since the original signal DFT is very time consuming due to the high runtime complexity, in this case the signal has been divided into 32 chunk using array_split and then for each split the corresponding DFT built in and the one built from scratch was checked. This was done for the rest of the task as well. Due to huge runtime complexity only a portion of the executed code is shown."
      ],
      "metadata": {
        "id": "XeMzwHSYcVMq"
      }
    },
    {
      "cell_type": "code",
      "source": [
        "signal=np.array_split(data,50)\n",
        "for i in range(0,10):\n",
        "  x,y=myDFT(signal[i])\n",
        "  print(\"\\nComparing it with built in DFT function\\n\")\n",
        "  spectral_analysis2=np.fft.rfft(signal[i])\n",
        "  print(spectral_analysis2.real,'\\n', spectral_analysis2.imag)"
      ],
      "metadata": {
        "colab": {
          "base_uri": "https://localhost:8080/"
        },
        "id": "hevsoRt4cIog",
        "outputId": "f89e662e-9943-4c91-e1ff-ecafaebdd082"
      },
      "execution_count": null,
      "outputs": [
        {
          "output_type": "stream",
          "name": "stdout",
          "text": [
            "Using From Scratch Build DFT:\n",
            "\n",
            "[35678.         35678.         35678.         ... 35677.99999997\n",
            " 35677.99999984 35677.99999997] \n",
            " [ 0.00000000e+00 -5.31667816e-05 -1.06333563e-04 ... -4.58009437e-02\n",
            " -6.68293308e-02 -2.23236775e-02]\n",
            "\n",
            "Comparing it with built in DFT function\n",
            "\n",
            "[35824.         -5583.8850563   2874.71662382 ...  -131.12515994\n",
            "  -118.8432425   -124.        ] \n",
            " [    0.          1533.93406673 -2803.80416307 ...    -4.22086897\n",
            "     8.09913955     0.        ]\n",
            "Using From Scratch Build DFT:\n",
            "\n",
            "[260284.         260284.         260284.         ... 260283.99999509\n",
            " 260283.9999973  260283.99999427] \n",
            " [ 0.00000000e+00 -4.21090782e-04 -8.42181564e-04 ... -2.77631955e-01\n",
            " -4.78000966e-01 -2.84821474e-02]\n",
            "\n",
            "Comparing it with built in DFT function\n",
            "\n",
            "[256418.          21116.00251245  68665.4894137  ...   2299.21955088\n",
            "   2266.90192481   2308.        ] \n",
            " [ 0.00000000e+00  6.38020338e+04 -9.64836244e+03 ... -1.25880880e+01\n",
            "  5.52163293e+00  0.00000000e+00]\n",
            "Using From Scratch Build DFT:\n",
            "\n",
            "[-15360.         -15360.         -15360.         ... -15360.00000053\n",
            " -15360.00000157 -15360.00000128] \n",
            " [ 0.         -0.00014788 -0.00029576 ...  0.12727014 -0.12957185\n",
            "  0.09479336]\n",
            "\n",
            "Comparing it with built in DFT function\n",
            "\n",
            "[-17682.          -1288.05341102  -6685.47650861 ...   -755.22499923\n",
            "   -775.39603903   -794.        ] \n",
            " [ 0.00000000e+00 -2.01373386e+04 -1.21213154e+04 ... -1.84212926e+01\n",
            " -4.32722241e+00  0.00000000e+00]\n",
            "Using From Scratch Build DFT:\n",
            "\n",
            "[-132162.         -132162.         -132162.         ... -132162.00000118\n",
            " -132162.00000309 -132162.00000011] \n",
            " [ 0.00000000e+00  6.53762804e-05  1.30752561e-04 ...  4.15366832e-03\n",
            " -6.25336010e-01  1.04320869e-02]\n",
            "\n",
            "Comparing it with built in DFT function\n",
            "\n",
            "[-124759.          -61459.86908566  -71387.96421139 ...   -5180.73755237\n",
            "   -5212.22014268   -5177.        ] \n",
            " [ 0.00000000e+00  2.03661618e+03 -7.84079958e+03 ...  1.79812907e+00\n",
            " -2.82045958e+00  0.00000000e+00]\n",
            "Using From Scratch Build DFT:\n",
            "\n",
            "[-9095.         -9095.         -9095.         ... -9094.99999805\n",
            " -9094.99999612 -9094.99999855] \n",
            " [ 0.00000000e+00  1.59718181e-04  3.19436362e-04 ... -2.32554493e-02\n",
            "  5.79178815e-01 -1.25786968e-01]\n",
            "\n",
            "Comparing it with built in DFT function\n",
            "\n",
            "[-15436.          -2961.76477405  -9543.6279315  ...   6830.33963899\n",
            "   6821.58971834   6816.        ] \n",
            " [ 0.00000000e+00  8.62084030e+03  8.40887639e+03 ... -1.30538941e+01\n",
            " -3.30169823e+00  0.00000000e+00]\n",
            "Using From Scratch Build DFT:\n",
            "\n",
            "[78120.         78120.         78120.         ... 78119.99999755\n",
            " 78119.99999553 78119.99999768] \n",
            " [ 0.00000000e+00 -2.51180429e-04 -5.02360858e-04 ... -1.56553669e-01\n",
            " -5.10550425e-01  5.16446358e-02]\n",
            "\n",
            "Comparing it with built in DFT function\n",
            "\n",
            "[83543.         48400.77285006 48844.2177462  ... -5684.99147474\n",
            " -5669.12990468 -5637.        ] \n",
            " [ 0.00000000e+00 -2.88172302e+02 -1.24070535e+04 ...  1.47900505e+00\n",
            "  9.01495821e+00  0.00000000e+00]\n",
            "Using From Scratch Build DFT:\n",
            "\n",
            "[-25747.         -25747.         -25747.         ... -25746.99999908\n",
            " -25746.99999701 -25746.9999986 ] \n",
            " [ 0.00000000e+00  1.29055602e-04  2.58111205e-04 ... -1.13779287e-01\n",
            "  3.44993921e-01 -9.02371852e-02]\n",
            "\n",
            "Comparing it with built in DFT function\n",
            "\n",
            "[-29811.         -67683.6391934  -69494.69567316 ...   4489.97583508\n",
            "   4496.42532896   4479.        ] \n",
            " [ 0.00000000e+00  4.40176664e+03  1.56422357e+03 ...  1.27019050e+01\n",
            " -3.80964199e+00  0.00000000e+00]\n",
            "Using From Scratch Build DFT:\n",
            "\n",
            "[151960.         151960.         151960.         ... 151959.99999768\n",
            " 151959.99999698 151959.99999725] \n",
            " [ 0.         -0.00034518 -0.00069035 ... -0.12964455 -0.14489382\n",
            "  0.01676782]\n",
            "\n",
            "Comparing it with built in DFT function\n",
            "\n",
            "[151340.         102306.32758281  87351.391312   ...  -1381.04420007\n",
            "  -1378.64534506  -1404.        ] \n",
            " [ 0.00000000e+00 -8.21027170e+03 -4.73935875e+02 ...  4.84954432e+00\n",
            " -1.47360826e+01  0.00000000e+00]\n",
            "Using From Scratch Build DFT:\n",
            "\n",
            "[-29152.         -29152.         -29152.         ... -29152.00000275\n",
            " -29152.00000231 -29152.00000094] \n",
            " [ 0.00000000e+00 -1.12299537e-04 -2.24599073e-04 ... -1.86031146e-01\n",
            " -3.27330036e-01 -3.83761350e-02]\n",
            "\n",
            "Comparing it with built in DFT function\n",
            "\n",
            "[-23927.         -80325.82364498 -83763.12150216 ...  -3215.70246538\n",
            "  -3242.62034191  -3215.        ] \n",
            " [    0.         -3859.74043995 -5414.11422018 ...    12.20463701\n",
            "     9.2087616      0.        ]\n",
            "Using From Scratch Build DFT:\n",
            "\n",
            "[34464.         34464.         34464.         ... 34464.00000011\n",
            " 34464.00000221 34464.00000138] \n",
            " [ 0.00000000e+00  5.67478429e-05  1.13495686e-04 ... -3.29061857e-01\n",
            "  2.59323368e-01 -1.03606288e-01]\n",
            "\n",
            "Comparing it with built in DFT function\n",
            "\n",
            "[32874.         -7660.47618248   486.78434828 ...  3307.04600241\n",
            "  3310.74916114  3334.        ] \n",
            " [    0.           954.69120143 -4009.4331133  ...   -27.68455989\n",
            "   -13.61850039     0.        ]\n"
          ]
        }
      ]
    },
    {
      "cell_type": "code",
      "source": [
        "TDS=np.zeros(32)\n",
        "TDS[0]=32\n",
        "x,y=myDFT(TDS)\n",
        "print(\"\\nComparing it with built in DFT function\\n\")\n",
        "spectral_analysis2=np.fft.rfft(TDS)\n",
        "print(spectral_analysis2.real,'\\n', spectral_analysis2.imag)\n",
        "TDS=myIDFT(spectral_analysis2.real, spectral_analysis2.imag)"
      ],
      "metadata": {
        "colab": {
          "base_uri": "https://localhost:8080/",
          "height": 612
        },
        "id": "fQoguNbkddoj",
        "outputId": "2622458d-ce84-499d-f766-9402d5504818"
      },
      "execution_count": null,
      "outputs": [
        {
          "output_type": "stream",
          "name": "stdout",
          "text": [
            "Using From Scratch Build DFT:\n",
            "\n",
            "[32. 32. 32. 32. 32. 32. 32. 32. 32. 32. 32. 32. 32. 32. 32. 32. 32.] \n",
            " [0. 0. 0. 0. 0. 0. 0. 0. 0. 0. 0. 0. 0. 0. 0. 0. 0.]\n",
            "\n",
            "Comparing it with built in DFT function\n",
            "\n",
            "[32. 32. 32. 32. 32. 32. 32. 32. 32. 32. 32. 32. 32. 32. 32. 32. 32.] \n",
            " [ 0.  0. -0.  0.  0.  0.  0.  0. -0.  0.  0.  0.  0.  0.  0.  0.  0.]\n",
            "Using My built in Inverse Transformation:\n",
            "\n",
            "[ 3.01176471e+01  1.86632762e+00 -1.81879739e+00  1.74138083e+00\n",
            " -1.63671428e+00  1.50836201e+00 -1.36069492e+00  1.19874164e+00\n",
            " -1.02801728e+00  8.54335662e-01 -6.83611303e-01  5.21658018e-01\n",
            " -3.73990930e-01  2.45638666e-01 -1.40972108e-01  6.35555488e-02\n",
            " -1.60253179e-02  0.00000000e+00 -1.60253179e-02  6.35555488e-02\n",
            " -1.40972108e-01  2.45638666e-01 -3.73990930e-01  5.21658018e-01\n",
            " -6.83611303e-01  8.54335662e-01 -1.02801728e+00  1.19874164e+00\n",
            " -1.36069492e+00  1.50836201e+00 -1.63671428e+00  1.74138083e+00\n",
            " -1.81879739e+00  0.00000000e+00]\n"
          ]
        },
        {
          "output_type": "display_data",
          "data": {
            "text/plain": [
              "<Figure size 432x288 with 1 Axes>"
            ],
            "image/png": "[encoded data removed]"
          },
          "metadata": {
            "needs_background": "light"
          }
        }
      ]
    },
    {
      "cell_type": "markdown",
      "source": [
        "Due to high complexity, in case of inverse, a demo using a small signal was shown which proves that my inverse function is working correctly."
      ],
      "metadata": {
        "id": "MTOZxfJ0g74W"
      }
    },
    {
      "cell_type": "code",
      "source": [
        "ReX, ImX=myDFT(TDS)\n",
        "MgX= Rect2Polar(ReX, ImX)\n",
        "plt.plot(MgX)\n",
        "plt.figure()"
      ],
      "metadata": {
        "colab": {
          "base_uri": "https://localhost:8080/",
          "height": 560
        },
        "id": "b8OO1QzzdsXu",
        "outputId": "cec0ddab-a4bf-4ec2-b236-481848c4b7c3"
      },
      "execution_count": null,
      "outputs": [
        {
          "output_type": "stream",
          "name": "stdout",
          "text": [
            "Using From Scratch Build DFT:\n",
            "\n",
            "[30.13367238 30.13367238 30.13367238 30.13367238 30.13367238 30.13367238\n",
            " 30.13367238 30.13367238 30.13367238 30.13367238 30.13367238 30.13367238\n",
            " 30.13367238 30.13367238 30.13367238 30.13367238 30.13367238 30.13367238] \n",
            " [ 0.00000000e+00 -1.77959867e-13 -3.55919734e-13 -4.80852202e-12\n",
            " -7.11839467e-13 -7.19135863e-12 -9.61704404e-12  3.68153266e-12\n",
            " -1.42367893e-12 -6.45722860e-12 -1.43827173e-11 -3.07262462e-11\n",
            " -1.92340881e-11  4.02114687e-11  7.36306531e-12  1.37556364e-11\n",
            " -2.84735787e-12  6.87036390e-12]\n",
            "The phase values are placed in vectors as:\n",
            "\n",
            "[1.57079533 1.57079533 1.57079533 1.57079533 1.57079533 1.57079533\n",
            " 1.57079533 1.57079533 1.57079533 1.57079533 1.57079533 1.57079533\n",
            " 1.57079533 1.57079533 1.57079533 1.57079533 1.57079533 1.57079533]\n"
          ]
        },
        {
          "output_type": "execute_result",
          "data": {
            "text/plain": [
              "<Figure size 432x288 with 0 Axes>"
            ]
          },
          "metadata": {},
          "execution_count": 20
        },
        {
          "output_type": "display_data",
          "data": {
            "text/plain": [
              "<Figure size 432x288 with 1 Axes>"
            ],
            "image/png": "[encoded data removed]"
          },
          "metadata": {
            "needs_background": "light"
          }
        },
        {
          "output_type": "display_data",
          "data": {
            "text/plain": [
              "<Figure size 432x288 with 0 Axes>"
            ]
          },
          "metadata": {}
        }
      ]
    },
    {
      "cell_type": "markdown",
      "source": [
        "#Task 4"
      ],
      "metadata": {
        "id": "Of-Rhcevdz4p"
      }
    },
    {
      "cell_type": "markdown",
      "source": [
        "Intially we build the signal just as mentioned in the question"
      ],
      "metadata": {
        "id": "HKw3kNqLd1uw"
      }
    },
    {
      "cell_type": "code",
      "source": [
        "freq=1\n",
        "amplitude=0.1\n",
        "t=np.linspace(0,5,100)\n",
        "wave=amplitude*np.sin(2*np.pi*freq*t)\n",
        "noise=amplitude*np.random.rand(len(wave))\n",
        "plt.stem(noise)"
      ],
      "metadata": {
        "colab": {
          "base_uri": "https://localhost:8080/",
          "height": 282
        },
        "id": "gmaxXl1od7yC",
        "outputId": "9992c3dc-9657-4395-a638-25793dd8897f"
      },
      "execution_count": null,
      "outputs": [
        {
          "output_type": "execute_result",
          "data": {
            "text/plain": [
              "<StemContainer object of 3 artists>"
            ]
          },
          "metadata": {},
          "execution_count": 21
        },
        {
          "output_type": "display_data",
          "data": {
            "text/plain": [
              "<Figure size 432x288 with 1 Axes>"
            ],
            "image/png": "[encoded data removed]"
          },
          "metadata": {
            "needs_background": "light"
          }
        }
      ]
    },
    {
      "cell_type": "markdown",
      "source": [
        "After that, using a random value the noise was added to the signal, in the noise variable. Afterwards, the noise signal was combined with the original wave signal"
      ],
      "metadata": {
        "id": "o99obUvDeIav"
      }
    },
    {
      "cell_type": "code",
      "source": [
        "t2=np.linspace(0,15,100)\n",
        "freq=1\n",
        "amplitude=0.1\n",
        "wave2=amplitude*np.sin(2*np.pi*freq*t)\n",
        "plt.stem(wave2)"
      ],
      "metadata": {
        "colab": {
          "base_uri": "https://localhost:8080/",
          "height": 282
        },
        "id": "4MNqcrrHd-Qs",
        "outputId": "b10125af-234b-4251-eff3-8059df2da75c"
      },
      "execution_count": null,
      "outputs": [
        {
          "output_type": "execute_result",
          "data": {
            "text/plain": [
              "<StemContainer object of 3 artists>"
            ]
          },
          "metadata": {},
          "execution_count": 22
        },
        {
          "output_type": "display_data",
          "data": {
            "text/plain": [
              "<Figure size 432x288 with 1 Axes>"
            ],
            "image/png": "[encoded data removed]"
          },
          "metadata": {
            "needs_background": "light"
          }
        }
      ]
    },
    {
      "cell_type": "markdown",
      "source": [
        "Here the built in convolve function was used to convolve the noise signal and my original wave signal."
      ],
      "metadata": {
        "id": "ycFvfcYdeUyd"
      }
    },
    {
      "cell_type": "code",
      "source": [
        "wave3=np.convolve(noise, wave2)\n",
        "plt.stem(wave3)"
      ],
      "metadata": {
        "colab": {
          "base_uri": "https://localhost:8080/",
          "height": 282
        },
        "id": "-e_HZIlQeAlg",
        "outputId": "3d8daf27-fc45-4586-de99-04d089b71c96"
      },
      "execution_count": null,
      "outputs": [
        {
          "output_type": "execute_result",
          "data": {
            "text/plain": [
              "<StemContainer object of 3 artists>"
            ]
          },
          "metadata": {},
          "execution_count": 23
        },
        {
          "output_type": "display_data",
          "data": {
            "text/plain": [
              "<Figure size 432x288 with 1 Axes>"
            ],
            "image/png": "[encoded data removed]"
          },
          "metadata": {
            "needs_background": "light"
          }
        }
      ]
    },
    {
      "cell_type": "markdown",
      "source": [
        "This is the convolve signal built from scratch. In the convolve signal, the input signal and the impulse response is given as input. then firstly iterating throug the input signal, for each value of input signal, it was multipled with each values of the impulse signal through the second loop. The summation of the products were kept in the designated array"
      ],
      "metadata": {
        "id": "8uqYhEBuedz_"
      }
    },
    {
      "cell_type": "code",
      "source": [
        "def Convolution(inp, impulse):\n",
        "    output = np.zeros(len(inp) + len(impulse) - 1)\n",
        "    for i in range(0, len(inp)):\n",
        "        for j in range(0, len(impulse)):\n",
        "            output[i+j] = output[i+j] + (inp[i] * impulse[j])\n",
        "\n",
        "    plt.stem(output)\n",
        "Convolution(noise, wave2)"
      ],
      "metadata": {
        "colab": {
          "base_uri": "https://localhost:8080/",
          "height": 265
        },
        "id": "Gy6xKHGEeZo5",
        "outputId": "4ac01ae2-1c28-4641-f8a4-99285efdac03"
      },
      "execution_count": null,
      "outputs": [
        {
          "output_type": "display_data",
          "data": {
            "text/plain": [
              "<Figure size 432x288 with 1 Axes>"
            ],
            "image/png": "[encoded data removed]"
          },
          "metadata": {
            "needs_background": "light"
          }
        }
      ]
    }
  ]
}